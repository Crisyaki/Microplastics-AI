{
 "cells": [
  {
   "cell_type": "markdown",
   "metadata": {},
   "source": [
    "# Segunda prueba para la detección de plasticos en la arena\n",
    "\n",
    "## Segmentación de la imagen y entrenamiento entre plastico/arena\n",
    "### Paso 1: Redimensionar las imagenes"
   ]
  },
  {
   "cell_type": "code",
   "execution_count": 1,
   "metadata": {},
   "outputs": [],
   "source": [
    "import matplotlib.pyplot as plt\n",
    "import numpy as np\n",
    "from PIL import Image\n"
   ]
  },
  {
   "cell_type": "code",
   "execution_count": 9,
   "metadata": {},
   "outputs": [
    {
     "data": {
      "text/plain": [
       "['1.jpg',\n",
       " '10.jpg',\n",
       " '2.jpg',\n",
       " '3.2.jpg',\n",
       " '3.jpg',\n",
       " '4.jpg',\n",
       " '5.2.jpg',\n",
       " '5.jpg',\n",
       " '6.jpg',\n",
       " '7.2.jpg',\n",
       " '7.jpg',\n",
       " '8.2.jpg',\n",
       " '8.jpg',\n",
       " '9.2.jpg',\n",
       " '9.jpg']"
      ]
     },
     "execution_count": 9,
     "metadata": {},
     "output_type": "execute_result"
    }
   ],
   "source": [
    "from os import scandir, getcwd\n",
    "\n",
    "#Obtenemos la lista de las imágenes a redimensionar\n",
    "def lsJPG(ruta = getcwd()):\n",
    "    return [arch.name for arch in scandir(ruta) if (arch.is_file() and arch.name.endswith('.jpg'))]\n",
    "\n",
    "listImg = lsJPG(\"F:\\Microplasticos\\MuestrasPrueba (2,3,4-11-17)\\Recortada\")\n",
    "listImg"
   ]
  },
  {
   "cell_type": "code",
   "execution_count": 10,
   "metadata": {},
   "outputs": [],
   "source": [
    "#Redimensionamos todas las imagenes a 2240x2240, ya que 2240/64 = 35. \n",
    "\n",
    "for img in listImg:\n",
    "    redim = Image.open(\"MuestrasPrueba (2,3,4-11-17)/Recortada/\"+img)\n",
    "    nuevo = redim.resize((2240, 2240), Image.ANTIALIAS)\n",
    "    nuevo.save(\"MuestrasPrueba (2,3,4-11-17)/Recortada/2240x2240/\"+img)"
   ]
  },
  {
   "cell_type": "markdown",
   "metadata": {},
   "source": [
    "### Paso 2: Recortar las imágenes en fragmentos\n",
    "\n",
    "Recortaremos cada imagen en 35*35 imágenes de tamaño 64x64, luego clasificaremos manualmente en un excel si es arena o plastico."
   ]
  },
  {
   "cell_type": "code",
   "execution_count": 37,
   "metadata": {},
   "outputs": [],
   "source": [
    "import pandas as pd"
   ]
  },
  {
   "cell_type": "code",
   "execution_count": 34,
   "metadata": {},
   "outputs": [],
   "source": [
    "n = int(2240/64) #35\n",
    "listaRegiones = []\n",
    "for img in listImg:\n",
    "    recort = Image.open(\"MuestrasPrueba (2,3,4-11-17)/Recortada/2240x2240/\"+img)\n",
    "    for i in range(0,n):\n",
    "        for j in range(0,n):\n",
    "            region = recort.crop((i*64,j*64,i*64+64,j*64+64))\n",
    "            subtring = img[0:-4]\n",
    "            region.save(\"MuestrasPrueba (2,3,4-11-17)/Recortada/2240x2240/Segmentadas/\"+\n",
    "                        \"imgID\"+subtring+\"-R\"+str(i)+\"C\"+str(j)+\".jpg\")\n",
    "            listaRegiones.append(\"imgID\"+subtring+\"-R\"+str(i)+\"C\"+str(j))\n",
    "    #Primero vamos a segmentar SOLO 1 IMAGEN\n",
    "    #Una vez que funciona quitamos el break y segmentamos todas las imagenes\n",
    "    #break\n"
   ]
  },
  {
   "cell_type": "code",
   "execution_count": 36,
   "metadata": {},
   "outputs": [],
   "source": [
    "#Creamos un dataframe para las regiones de las imagenes\n",
    "data = {'Nombre Segmento':listaRegiones, 'Plasticos':[0] * len(listaRegiones)} \n",
    "df = pd.DataFrame(data) \n",
    "df.to_csv(\"MuestrasPrueba (2,3,4-11-17)/Recortada/2240x2240/segmentosPlastico.csv\", header=True, index=False)\n",
    "#Manualmente se indicará con un 1 las regiones de las imágenes que tengan plasticos"
   ]
  },
  {
   "cell_type": "markdown",
   "metadata": {},
   "source": [
    "Para indicar manualmente que región tiene plastico se procedió a realizar una rejilla con photoshop y numerar las casillas. Para hacer la regilla se utilizó el siguiente tutorial: https://es.wikihow.com/hacer-una-rejilla-en-Photoshop"
   ]
  },
  {
   "cell_type": "markdown",
   "metadata": {},
   "source": [
    "### Paso 3: Preparación de los datos previos a la red neuronal"
   ]
  },
  {
   "cell_type": "markdown",
   "metadata": {},
   "source": [
    "Vamos a crear el conjunto de datos de entrenamiento y test. Como solo hemos mapeado 4 imágenes. "
   ]
  },
  {
   "cell_type": "code",
   "execution_count": 115,
   "metadata": {},
   "outputs": [
    {
     "data": {
      "text/plain": [
       "'3.4.0'"
      ]
     },
     "execution_count": 115,
     "metadata": {},
     "output_type": "execute_result"
    }
   ],
   "source": [
    "import re\n",
    "import matplotlib.pyplot as plt\n",
    "import plotly.tools as tls\n",
    "import plotly.plotly as py\n",
    "\n",
    "import plotly\n",
    "plotly.__version__"
   ]
  },
  {
   "cell_type": "code",
   "execution_count": 228,
   "metadata": {},
   "outputs": [
    {
     "data": {
      "text/html": [
       "<div>\n",
       "<style scoped>\n",
       "    .dataframe tbody tr th:only-of-type {\n",
       "        vertical-align: middle;\n",
       "    }\n",
       "\n",
       "    .dataframe tbody tr th {\n",
       "        vertical-align: top;\n",
       "    }\n",
       "\n",
       "    .dataframe thead th {\n",
       "        text-align: right;\n",
       "    }\n",
       "</style>\n",
       "<table border=\"1\" class=\"dataframe\">\n",
       "  <thead>\n",
       "    <tr style=\"text-align: right;\">\n",
       "      <th></th>\n",
       "      <th>Nombre Segmento</th>\n",
       "      <th>Plasticos</th>\n",
       "    </tr>\n",
       "  </thead>\n",
       "  <tbody>\n",
       "    <tr>\n",
       "      <th>0</th>\n",
       "      <td>imgID1-R0C0</td>\n",
       "      <td>0</td>\n",
       "    </tr>\n",
       "    <tr>\n",
       "      <th>1</th>\n",
       "      <td>imgID1-R0C1</td>\n",
       "      <td>0</td>\n",
       "    </tr>\n",
       "    <tr>\n",
       "      <th>2</th>\n",
       "      <td>imgID1-R0C2</td>\n",
       "      <td>0</td>\n",
       "    </tr>\n",
       "    <tr>\n",
       "      <th>3</th>\n",
       "      <td>imgID1-R0C3</td>\n",
       "      <td>0</td>\n",
       "    </tr>\n",
       "    <tr>\n",
       "      <th>4</th>\n",
       "      <td>imgID1-R0C4</td>\n",
       "      <td>0</td>\n",
       "    </tr>\n",
       "    <tr>\n",
       "      <th>5</th>\n",
       "      <td>imgID1-R0C5</td>\n",
       "      <td>0</td>\n",
       "    </tr>\n",
       "    <tr>\n",
       "      <th>6</th>\n",
       "      <td>imgID1-R0C6</td>\n",
       "      <td>0</td>\n",
       "    </tr>\n",
       "    <tr>\n",
       "      <th>7</th>\n",
       "      <td>imgID1-R0C7</td>\n",
       "      <td>0</td>\n",
       "    </tr>\n",
       "    <tr>\n",
       "      <th>8</th>\n",
       "      <td>imgID1-R0C8</td>\n",
       "      <td>0</td>\n",
       "    </tr>\n",
       "    <tr>\n",
       "      <th>9</th>\n",
       "      <td>imgID1-R0C9</td>\n",
       "      <td>0</td>\n",
       "    </tr>\n",
       "    <tr>\n",
       "      <th>10</th>\n",
       "      <td>imgID1-R0C10</td>\n",
       "      <td>0</td>\n",
       "    </tr>\n",
       "    <tr>\n",
       "      <th>11</th>\n",
       "      <td>imgID1-R0C11</td>\n",
       "      <td>0</td>\n",
       "    </tr>\n",
       "    <tr>\n",
       "      <th>12</th>\n",
       "      <td>imgID1-R0C12</td>\n",
       "      <td>0</td>\n",
       "    </tr>\n",
       "    <tr>\n",
       "      <th>13</th>\n",
       "      <td>imgID1-R0C13</td>\n",
       "      <td>0</td>\n",
       "    </tr>\n",
       "    <tr>\n",
       "      <th>14</th>\n",
       "      <td>imgID1-R0C14</td>\n",
       "      <td>0</td>\n",
       "    </tr>\n",
       "    <tr>\n",
       "      <th>15</th>\n",
       "      <td>imgID1-R0C15</td>\n",
       "      <td>0</td>\n",
       "    </tr>\n",
       "    <tr>\n",
       "      <th>16</th>\n",
       "      <td>imgID1-R0C16</td>\n",
       "      <td>0</td>\n",
       "    </tr>\n",
       "    <tr>\n",
       "      <th>17</th>\n",
       "      <td>imgID1-R0C17</td>\n",
       "      <td>0</td>\n",
       "    </tr>\n",
       "    <tr>\n",
       "      <th>18</th>\n",
       "      <td>imgID1-R0C18</td>\n",
       "      <td>0</td>\n",
       "    </tr>\n",
       "    <tr>\n",
       "      <th>19</th>\n",
       "      <td>imgID1-R0C19</td>\n",
       "      <td>0</td>\n",
       "    </tr>\n",
       "    <tr>\n",
       "      <th>20</th>\n",
       "      <td>imgID1-R0C20</td>\n",
       "      <td>0</td>\n",
       "    </tr>\n",
       "    <tr>\n",
       "      <th>21</th>\n",
       "      <td>imgID1-R0C21</td>\n",
       "      <td>0</td>\n",
       "    </tr>\n",
       "    <tr>\n",
       "      <th>22</th>\n",
       "      <td>imgID1-R0C22</td>\n",
       "      <td>0</td>\n",
       "    </tr>\n",
       "    <tr>\n",
       "      <th>23</th>\n",
       "      <td>imgID1-R0C23</td>\n",
       "      <td>0</td>\n",
       "    </tr>\n",
       "    <tr>\n",
       "      <th>24</th>\n",
       "      <td>imgID1-R0C24</td>\n",
       "      <td>0</td>\n",
       "    </tr>\n",
       "    <tr>\n",
       "      <th>25</th>\n",
       "      <td>imgID1-R0C25</td>\n",
       "      <td>0</td>\n",
       "    </tr>\n",
       "    <tr>\n",
       "      <th>26</th>\n",
       "      <td>imgID1-R0C26</td>\n",
       "      <td>0</td>\n",
       "    </tr>\n",
       "    <tr>\n",
       "      <th>27</th>\n",
       "      <td>imgID1-R0C27</td>\n",
       "      <td>0</td>\n",
       "    </tr>\n",
       "    <tr>\n",
       "      <th>28</th>\n",
       "      <td>imgID1-R0C28</td>\n",
       "      <td>0</td>\n",
       "    </tr>\n",
       "    <tr>\n",
       "      <th>29</th>\n",
       "      <td>imgID1-R0C29</td>\n",
       "      <td>0</td>\n",
       "    </tr>\n",
       "    <tr>\n",
       "      <th>...</th>\n",
       "      <td>...</td>\n",
       "      <td>...</td>\n",
       "    </tr>\n",
       "    <tr>\n",
       "      <th>6095</th>\n",
       "      <td>imgID3-R34C5</td>\n",
       "      <td>0</td>\n",
       "    </tr>\n",
       "    <tr>\n",
       "      <th>6096</th>\n",
       "      <td>imgID3-R34C6</td>\n",
       "      <td>0</td>\n",
       "    </tr>\n",
       "    <tr>\n",
       "      <th>6097</th>\n",
       "      <td>imgID3-R34C7</td>\n",
       "      <td>0</td>\n",
       "    </tr>\n",
       "    <tr>\n",
       "      <th>6098</th>\n",
       "      <td>imgID3-R34C8</td>\n",
       "      <td>0</td>\n",
       "    </tr>\n",
       "    <tr>\n",
       "      <th>6099</th>\n",
       "      <td>imgID3-R34C9</td>\n",
       "      <td>0</td>\n",
       "    </tr>\n",
       "    <tr>\n",
       "      <th>6100</th>\n",
       "      <td>imgID3-R34C10</td>\n",
       "      <td>0</td>\n",
       "    </tr>\n",
       "    <tr>\n",
       "      <th>6101</th>\n",
       "      <td>imgID3-R34C11</td>\n",
       "      <td>0</td>\n",
       "    </tr>\n",
       "    <tr>\n",
       "      <th>6102</th>\n",
       "      <td>imgID3-R34C12</td>\n",
       "      <td>0</td>\n",
       "    </tr>\n",
       "    <tr>\n",
       "      <th>6103</th>\n",
       "      <td>imgID3-R34C13</td>\n",
       "      <td>0</td>\n",
       "    </tr>\n",
       "    <tr>\n",
       "      <th>6104</th>\n",
       "      <td>imgID3-R34C14</td>\n",
       "      <td>0</td>\n",
       "    </tr>\n",
       "    <tr>\n",
       "      <th>6105</th>\n",
       "      <td>imgID3-R34C15</td>\n",
       "      <td>0</td>\n",
       "    </tr>\n",
       "    <tr>\n",
       "      <th>6106</th>\n",
       "      <td>imgID3-R34C16</td>\n",
       "      <td>0</td>\n",
       "    </tr>\n",
       "    <tr>\n",
       "      <th>6107</th>\n",
       "      <td>imgID3-R34C17</td>\n",
       "      <td>0</td>\n",
       "    </tr>\n",
       "    <tr>\n",
       "      <th>6108</th>\n",
       "      <td>imgID3-R34C18</td>\n",
       "      <td>0</td>\n",
       "    </tr>\n",
       "    <tr>\n",
       "      <th>6109</th>\n",
       "      <td>imgID3-R34C19</td>\n",
       "      <td>0</td>\n",
       "    </tr>\n",
       "    <tr>\n",
       "      <th>6110</th>\n",
       "      <td>imgID3-R34C20</td>\n",
       "      <td>0</td>\n",
       "    </tr>\n",
       "    <tr>\n",
       "      <th>6111</th>\n",
       "      <td>imgID3-R34C21</td>\n",
       "      <td>0</td>\n",
       "    </tr>\n",
       "    <tr>\n",
       "      <th>6112</th>\n",
       "      <td>imgID3-R34C22</td>\n",
       "      <td>0</td>\n",
       "    </tr>\n",
       "    <tr>\n",
       "      <th>6113</th>\n",
       "      <td>imgID3-R34C23</td>\n",
       "      <td>0</td>\n",
       "    </tr>\n",
       "    <tr>\n",
       "      <th>6114</th>\n",
       "      <td>imgID3-R34C24</td>\n",
       "      <td>0</td>\n",
       "    </tr>\n",
       "    <tr>\n",
       "      <th>6115</th>\n",
       "      <td>imgID3-R34C25</td>\n",
       "      <td>0</td>\n",
       "    </tr>\n",
       "    <tr>\n",
       "      <th>6116</th>\n",
       "      <td>imgID3-R34C26</td>\n",
       "      <td>0</td>\n",
       "    </tr>\n",
       "    <tr>\n",
       "      <th>6117</th>\n",
       "      <td>imgID3-R34C27</td>\n",
       "      <td>0</td>\n",
       "    </tr>\n",
       "    <tr>\n",
       "      <th>6118</th>\n",
       "      <td>imgID3-R34C28</td>\n",
       "      <td>0</td>\n",
       "    </tr>\n",
       "    <tr>\n",
       "      <th>6119</th>\n",
       "      <td>imgID3-R34C29</td>\n",
       "      <td>0</td>\n",
       "    </tr>\n",
       "    <tr>\n",
       "      <th>6120</th>\n",
       "      <td>imgID3-R34C30</td>\n",
       "      <td>0</td>\n",
       "    </tr>\n",
       "    <tr>\n",
       "      <th>6121</th>\n",
       "      <td>imgID3-R34C31</td>\n",
       "      <td>0</td>\n",
       "    </tr>\n",
       "    <tr>\n",
       "      <th>6122</th>\n",
       "      <td>imgID3-R34C32</td>\n",
       "      <td>0</td>\n",
       "    </tr>\n",
       "    <tr>\n",
       "      <th>6123</th>\n",
       "      <td>imgID3-R34C33</td>\n",
       "      <td>0</td>\n",
       "    </tr>\n",
       "    <tr>\n",
       "      <th>6124</th>\n",
       "      <td>imgID3-R34C34</td>\n",
       "      <td>0</td>\n",
       "    </tr>\n",
       "  </tbody>\n",
       "</table>\n",
       "<p>6125 rows × 2 columns</p>\n",
       "</div>"
      ],
      "text/plain": [
       "     Nombre Segmento  Plasticos\n",
       "0        imgID1-R0C0          0\n",
       "1        imgID1-R0C1          0\n",
       "2        imgID1-R0C2          0\n",
       "3        imgID1-R0C3          0\n",
       "4        imgID1-R0C4          0\n",
       "5        imgID1-R0C5          0\n",
       "6        imgID1-R0C6          0\n",
       "7        imgID1-R0C7          0\n",
       "8        imgID1-R0C8          0\n",
       "9        imgID1-R0C9          0\n",
       "10      imgID1-R0C10          0\n",
       "11      imgID1-R0C11          0\n",
       "12      imgID1-R0C12          0\n",
       "13      imgID1-R0C13          0\n",
       "14      imgID1-R0C14          0\n",
       "15      imgID1-R0C15          0\n",
       "16      imgID1-R0C16          0\n",
       "17      imgID1-R0C17          0\n",
       "18      imgID1-R0C18          0\n",
       "19      imgID1-R0C19          0\n",
       "20      imgID1-R0C20          0\n",
       "21      imgID1-R0C21          0\n",
       "22      imgID1-R0C22          0\n",
       "23      imgID1-R0C23          0\n",
       "24      imgID1-R0C24          0\n",
       "25      imgID1-R0C25          0\n",
       "26      imgID1-R0C26          0\n",
       "27      imgID1-R0C27          0\n",
       "28      imgID1-R0C28          0\n",
       "29      imgID1-R0C29          0\n",
       "...              ...        ...\n",
       "6095    imgID3-R34C5          0\n",
       "6096    imgID3-R34C6          0\n",
       "6097    imgID3-R34C7          0\n",
       "6098    imgID3-R34C8          0\n",
       "6099    imgID3-R34C9          0\n",
       "6100   imgID3-R34C10          0\n",
       "6101   imgID3-R34C11          0\n",
       "6102   imgID3-R34C12          0\n",
       "6103   imgID3-R34C13          0\n",
       "6104   imgID3-R34C14          0\n",
       "6105   imgID3-R34C15          0\n",
       "6106   imgID3-R34C16          0\n",
       "6107   imgID3-R34C17          0\n",
       "6108   imgID3-R34C18          0\n",
       "6109   imgID3-R34C19          0\n",
       "6110   imgID3-R34C20          0\n",
       "6111   imgID3-R34C21          0\n",
       "6112   imgID3-R34C22          0\n",
       "6113   imgID3-R34C23          0\n",
       "6114   imgID3-R34C24          0\n",
       "6115   imgID3-R34C25          0\n",
       "6116   imgID3-R34C26          0\n",
       "6117   imgID3-R34C27          0\n",
       "6118   imgID3-R34C28          0\n",
       "6119   imgID3-R34C29          0\n",
       "6120   imgID3-R34C30          0\n",
       "6121   imgID3-R34C31          0\n",
       "6122   imgID3-R34C32          0\n",
       "6123   imgID3-R34C33          0\n",
       "6124   imgID3-R34C34          0\n",
       "\n",
       "[6125 rows x 2 columns]"
      ]
     },
     "execution_count": 228,
     "metadata": {},
     "output_type": "execute_result"
    }
   ],
   "source": [
    "df2 = pd.read_csv(\"MuestrasPrueba (2,3,4-11-17)/Recortada/2240x2240/segmentosPlastico-3img.csv\")\n",
    "\n",
    "filtrado = df2['Nombre Segmento'].str.match(pat = '(imgID1)|(imgID2)|(imgID3)|(imgID3.2)') \n",
    "df3 = df2[filtrado]\n",
    "df3 #Ya tenemos un dataframe donde solo se encuentran las imágenes mapeadas"
   ]
  },
  {
   "cell_type": "code",
   "execution_count": 232,
   "metadata": {},
   "outputs": [
    {
     "data": {
      "text/plain": [
       "6125"
      ]
     },
     "execution_count": 232,
     "metadata": {},
     "output_type": "execute_result"
    }
   ],
   "source": [
    "def filtrado5img(ruta = getcwd()):\n",
    "    return [arch.name for arch in scandir(ruta) if (arch.is_file() \n",
    "                                                    and arch.name.endswith('.jpg') \n",
    "                                                    and (arch.name.startswith('imgID1')\n",
    "                                                         or  arch.name.startswith('imgID2')\n",
    "                                                         or  arch.name.startswith('imgID3')\n",
    "                                                         or  arch.name.startswith('imgID3.2')))]\n",
    "\n",
    "\n",
    "listImg = filtrado5img(\"F:\\Microplasticos\\MuestrasPrueba (2,3,4-11-17)\\Recortada\\\\2240x2240\\Segmentadas\")\n",
    "len(listImg)"
   ]
  },
  {
   "cell_type": "code",
   "execution_count": 233,
   "metadata": {},
   "outputs": [
    {
     "data": {
      "image/png": "[encoded data removed]",
      "text/plain": [
       "<Figure size 432x288 with 1 Axes>"
      ]
     },
     "metadata": {},
     "output_type": "display_data"
    }
   ],
   "source": [
    "#Contamos cuantos fragmentos tenemos con/sin plásticos\n",
    "unos = df3[df3['Plasticos'] == 1].count()\n",
    "ceros = df3[df3['Plasticos'] == 0].count()\n",
    "\n",
    "#Graficos de barras bonicos ---> https://plot.ly/matplotlib/bar-charts/\n",
    "plt.barh([\"Con plástico\",\"Sin plástico\"],[unos.values[0],ceros.values[0]],color=\"red\",height=0.3)\n",
    "plt.title(\"Nº de segmentos de imagen con/sin plásticos\")\n",
    "\n",
    "#fig = plt.gcf()\n",
    "#plotlyFig = tls.mpl_to_plotly(fig)\n",
    "#py.iplot(plotlyFig, filename='mpl-basic-bar')\n",
    "\n",
    "plt.show()"
   ]
  },
  {
   "cell_type": "markdown",
   "metadata": {},
   "source": [
    "Tenemos las clases desvalanceadas, vamos a separar el conjunto de entrenamiento y de test"
   ]
  },
  {
   "cell_type": "code",
   "execution_count": 234,
   "metadata": {},
   "outputs": [
    {
     "data": {
      "text/plain": [
       "(6125, 64, 64, 3)"
      ]
     },
     "execution_count": 234,
     "metadata": {},
     "output_type": "execute_result"
    }
   ],
   "source": [
    "#Array con todas las imágenes a entrenar \n",
    "im_array = np.array([np.array(Image.open(\"MuestrasPrueba (2,3,4-11-17)/Recortada/2240x2240/Segmentadas/\"+img)) for img in listImg] )\n",
    "im_array.shape"
   ]
  },
  {
   "cell_type": "code",
   "execution_count": 235,
   "metadata": {},
   "outputs": [
    {
     "name": "stderr",
     "output_type": "stream",
     "text": [
      "D:\\Anaconda3\\lib\\site-packages\\ipykernel_launcher.py:2: FutureWarning:\n",
      "\n",
      "Method .as_matrix will be removed in a future version. Use .values instead.\n",
      "\n"
     ]
    },
    {
     "data": {
      "text/plain": [
       "array([['imgID1-R0C0', 0],\n",
       "       ['imgID1-R0C1', 0],\n",
       "       ['imgID1-R0C2', 0],\n",
       "       ..., \n",
       "       ['imgID3-R34C32', 0],\n",
       "       ['imgID3-R34C33', 0],\n",
       "       ['imgID3-R34C34', 0]], dtype=object)"
      ]
     },
     "execution_count": 235,
     "metadata": {},
     "output_type": "execute_result"
    }
   ],
   "source": [
    "im_array_normal= im_array / 255.0\n",
    "output = df3.as_matrix() #df.to_numpy() para la versión 0.24\n",
    "output"
   ]
  },
  {
   "cell_type": "code",
   "execution_count": 236,
   "metadata": {},
   "outputs": [
    {
     "data": {
      "text/plain": [
       "(6125, 2)"
      ]
     },
     "execution_count": 236,
     "metadata": {},
     "output_type": "execute_result"
    }
   ],
   "source": [
    "output.shape"
   ]
  },
  {
   "cell_type": "code",
   "execution_count": 135,
   "metadata": {},
   "outputs": [
    {
     "name": "stderr",
     "output_type": "stream",
     "text": [
      "Using TensorFlow backend.\n"
     ]
    }
   ],
   "source": [
    "import tensorflow as tf\n",
    "\n",
    "from sklearn.model_selection import train_test_split"
   ]
  },
  {
   "cell_type": "code",
   "execution_count": 237,
   "metadata": {},
   "outputs": [
    {
     "name": "stderr",
     "output_type": "stream",
     "text": [
      "D:\\Anaconda3\\lib\\site-packages\\sklearn\\model_selection\\_split.py:2026: FutureWarning:\n",
      "\n",
      "From version 0.21, test_size will always complement train_size unless both are specified.\n",
      "\n"
     ]
    }
   ],
   "source": [
    "X_train, X_test, Y_train, Y_test = train_test_split(im_array_normal, output, train_size=0.7)"
   ]
  },
  {
   "cell_type": "code",
   "execution_count": 238,
   "metadata": {},
   "outputs": [
    {
     "data": {
      "text/plain": [
       "array([0, 0, 0, ..., 0, 0, 0], dtype=object)"
      ]
     },
     "execution_count": 238,
     "metadata": {},
     "output_type": "execute_result"
    }
   ],
   "source": [
    "Y_train[:,1]"
   ]
  },
  {
   "cell_type": "markdown",
   "metadata": {},
   "source": [
    "### Paso 4: Creación y entrenamiento de la red neuronal"
   ]
  },
  {
   "cell_type": "code",
   "execution_count": 146,
   "metadata": {},
   "outputs": [],
   "source": [
    "from keras.models                import Sequential, Model\n",
    "from keras.layers                import Dense, Input, Conv2D, MaxPool2D, Flatten, BatchNormalization, Dropout\n",
    "from keras.layers                import Conv2DTranspose, UpSampling2D, MaxPooling2D, Reshape, Activation, ReLU\n",
    "from keras.preprocessing.image   import ImageDataGenerator\n",
    "from keras.utils                 import to_categorical\n",
    "from keras.optimizers            import SGD"
   ]
  },
  {
   "cell_type": "code",
   "execution_count": 243,
   "metadata": {},
   "outputs": [],
   "source": [
    "model = Sequential()\n",
    "model.add(Conv2D(16, (3, 3), input_shape=(64, 64,3)))\n",
    "model.add(MaxPooling2D(pool_size=(2, 2))) #Comprimir la info y hacer que sea menos propensa a errores de traslaciones\n",
    "model.add(Activation('relu'))\n",
    "\n",
    "model.add(Conv2D(64, (3, 3)))\n",
    "model.add(MaxPooling2D(pool_size=(2, 2))) #Comprimir la info y hacer que sea menos propensa a errores de traslaciones\n",
    "model.add(Activation('relu'))\n",
    "\n",
    "model.add(Flatten())  \n",
    "model.add(Dense(128, activation='relu'))\n",
    "model.add(Dense(64, activation='relu'))\n",
    "model.add(Dropout(0.5))\n",
    "model.add(Dense(1, activation='sigmoid'))\n",
    "model.compile(loss='binary_crossentropy', optimizer='adam', metrics=['accuracy']) "
   ]
  },
  {
   "cell_type": "code",
   "execution_count": 244,
   "metadata": {},
   "outputs": [
    {
     "name": "stdout",
     "output_type": "stream",
     "text": [
      "Epoch 1/10\n",
      "4287/4287 [==============================] - 26s 6ms/step - loss: 0.4398 - acc: 0.8493\n",
      "Epoch 2/10\n",
      "4287/4287 [==============================] - 25s 6ms/step - loss: 0.4145 - acc: 0.8521\n",
      "Epoch 3/10\n",
      "4287/4287 [==============================] - 25s 6ms/step - loss: 0.3882 - acc: 0.8523\n",
      "Epoch 4/10\n",
      "4287/4287 [==============================] - 25s 6ms/step - loss: 0.3354 - acc: 0.8680\n",
      "Epoch 5/10\n",
      "4287/4287 [==============================] - 25s 6ms/step - loss: 0.2645 - acc: 0.9037\n",
      "Epoch 6/10\n",
      "4287/4287 [==============================] - 25s 6ms/step - loss: 0.1910 - acc: 0.9356\n",
      "Epoch 7/10\n",
      "4287/4287 [==============================] - 25s 6ms/step - loss: 0.1260 - acc: 0.9571: 3s - loss: 0\n",
      "Epoch 8/10\n",
      "4287/4287 [==============================] - 25s 6ms/step - loss: 0.0814 - acc: 0.9720\n",
      "Epoch 9/10\n",
      "4287/4287 [==============================] - 27s 6ms/step - loss: 0.0610 - acc: 0.9802\n",
      "Epoch 10/10\n",
      "4287/4287 [==============================] - 26s 6ms/step - loss: 0.0481 - acc: 0.9855\n"
     ]
    },
    {
     "data": {
      "text/plain": [
       "<keras.callbacks.History at 0x20ee301c9e8>"
      ]
     },
     "execution_count": 244,
     "metadata": {},
     "output_type": "execute_result"
    }
   ],
   "source": [
    "model.fit(X_train, Y_train[:,1],  batch_size=32, epochs=10)"
   ]
  },
  {
   "cell_type": "code",
   "execution_count": 245,
   "metadata": {},
   "outputs": [
    {
     "name": "stdout",
     "output_type": "stream",
     "text": [
      "---Evaluacion----\n",
      "1838/1838 [==============================] - 4s 2ms/step\n",
      "[0.50484838872596671, 0.88900979305896199]\n"
     ]
    }
   ],
   "source": [
    "print(\"---Evaluacion----\")\n",
    "ev = model.evaluate(X_test, Y_test[:,1], batch_size=32)\n",
    "print(ev) #ev_loss - ev_acc"
   ]
  },
  {
   "cell_type": "markdown",
   "metadata": {},
   "source": [
    "Vamos a elegir imágenes fragmentos sin mapear y predecirlos con la red neuronal entrenada, a ver que resultados obtenemos."
   ]
  },
  {
   "cell_type": "code",
   "execution_count": 246,
   "metadata": {},
   "outputs": [
    {
     "data": {
      "image/png": "[encoded data removed]",
      "text/plain": [
       "<Figure size 432x288 with 1 Axes>"
      ]
     },
     "metadata": {},
     "output_type": "display_data"
    },
    {
     "data": {
      "text/plain": [
       "array([[ 0.00021976]], dtype=float32)"
      ]
     },
     "execution_count": 246,
     "metadata": {},
     "output_type": "execute_result"
    }
   ],
   "source": [
    "ejemplo = np.array(Image.open(\"MuestrasPrueba (2,3,4-11-17)/Recortada/2240x2240/Segmentadas/imgID8.2-R15C12.jpg\"))\n",
    "plt.imshow(ejemplo)\n",
    "plt.show()\n",
    "\n",
    "prueba = ejemplo[np.newaxis,:]/255\n",
    "#prueba.shape\n",
    "model.predict(prueba)"
   ]
  },
  {
   "cell_type": "code",
   "execution_count": 247,
   "metadata": {},
   "outputs": [
    {
     "data": {
      "image/png": "[encoded data removed]",
      "text/plain": [
       "<Figure size 432x288 with 1 Axes>"
      ]
     },
     "metadata": {},
     "output_type": "display_data"
    },
    {
     "name": "stdout",
     "output_type": "stream",
     "text": [
      "[[ 0.00433666]]\n",
      "1/1 [==============================] - 0s 5ms/step\n",
      "[5.4406495094299316, 0.0]\n"
     ]
    }
   ],
   "source": [
    "ejemplo = np.array(Image.open(\"MuestrasPrueba (2,3,4-11-17)/Recortada/2240x2240/Segmentadas/imgID2-R14C18.jpg\"))\n",
    "plt.imshow(ejemplo)\n",
    "plt.show()\n",
    "\n",
    "prueba = ejemplo[np.newaxis,:]/255\n",
    "#prueba.shape\n",
    "print(model.predict(prueba))\n",
    "\n",
    "ev2 = model.evaluate(prueba,[1], batch_size=32)\n",
    "print(ev2) #ev_loss - ev_acc"
   ]
  },
  {
   "cell_type": "markdown",
   "metadata": {},
   "source": [
    "No está aprendiendo a identificar los plasticos. Vamos a evaluar con todas las imágenes de plastico a ver cuantas acierta"
   ]
  },
  {
   "cell_type": "code",
   "execution_count": 248,
   "metadata": {},
   "outputs": [
    {
     "name": "stdout",
     "output_type": "stream",
     "text": [
      "    Nombre Segmento  Plasticos\n",
      "36      imgID1-R1C1          1\n",
      "125    imgID1-R3C20          1\n",
      "195    imgID1-R5C20          1\n",
      "196    imgID1-R5C21          1\n",
      "197    imgID1-R5C22          1\n",
      "\n",
      "Las dimensiones del array son:  (909, 64, 64, 3)\n",
      "\n",
      "------Evaluación para imágenes con solo plastico--------\n",
      "909/909 [==============================] - 2s 2ms/step\n",
      "[5.1417223641318985, 0.29922992300869217]\n"
     ]
    }
   ],
   "source": [
    "unos = df3[df3['Plasticos'] == 1]\n",
    "print(unos.head())\n",
    "im_array = np.array([np.array(Image.open(\"MuestrasPrueba (2,3,4-11-17)/Recortada/2240x2240/Segmentadas/\"+img+\".jpg\")) for img in unos['Nombre Segmento'].tolist()] )\n",
    "\n",
    "print(\"\\nLas dimensiones del array son: \", im_array.shape)\n",
    "\n",
    "X_eval = im_array/255\n",
    "Y_eval = unos['Plasticos'].values\n",
    "\n",
    "print(\"\\n------Evaluación para imágenes con solo plastico--------\")\n",
    "ev3 = model.evaluate(X_eval,Y_eval, batch_size=32)\n",
    "print(ev3) #ev_loss - ev_acc"
   ]
  }
 ],
 "metadata": {
  "kernelspec": {
   "display_name": "Python 3",
   "language": "python",
   "name": "python3"
  },
  "language_info": {
   "codemirror_mode": {
    "name": "ipython",
    "version": 3
   },
   "file_extension": ".py",
   "mimetype": "text/x-python",
   "name": "python",
   "nbconvert_exporter": "python",
   "pygments_lexer": "ipython3",
   "version": "3.6.4"
  }
 },
 "nbformat": 4,
 "nbformat_minor": 2
}
