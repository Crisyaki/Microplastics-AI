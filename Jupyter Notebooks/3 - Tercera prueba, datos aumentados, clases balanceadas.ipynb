{
 "cells": [
  {
   "cell_type": "markdown",
   "metadata": {},
   "source": [
    "# Tercera prueba para la detcción de plasticos en la arena\n",
    "## Paso 1: Vamos a entrenar la red balanceando los datos de la clase mas pequeña y entrenar la red"
   ]
  },
  {
   "cell_type": "code",
   "execution_count": 15,
   "metadata": {},
   "outputs": [],
   "source": [
    "import matplotlib.pyplot as plt\n",
    "import numpy as np\n",
    "from PIL import Image\n",
    "import pandas as pd\n",
    "import matplotlib.pyplot as plt\n",
    "from os import scandir, getcwd\n",
    "import random"
   ]
  },
  {
   "cell_type": "code",
   "execution_count": 2,
   "metadata": {},
   "outputs": [
    {
     "data": {
      "text/html": [
       "<div>\n",
       "<style scoped>\n",
       "    .dataframe tbody tr th:only-of-type {\n",
       "        vertical-align: middle;\n",
       "    }\n",
       "\n",
       "    .dataframe tbody tr th {\n",
       "        vertical-align: top;\n",
       "    }\n",
       "\n",
       "    .dataframe thead th {\n",
       "        text-align: right;\n",
       "    }\n",
       "</style>\n",
       "<table border=\"1\" class=\"dataframe\">\n",
       "  <thead>\n",
       "    <tr style=\"text-align: right;\">\n",
       "      <th></th>\n",
       "      <th>Nombre Segmento</th>\n",
       "      <th>Plasticos</th>\n",
       "    </tr>\n",
       "  </thead>\n",
       "  <tbody>\n",
       "    <tr>\n",
       "      <th>0</th>\n",
       "      <td>imgID1-R0C0</td>\n",
       "      <td>0</td>\n",
       "    </tr>\n",
       "    <tr>\n",
       "      <th>1</th>\n",
       "      <td>imgID1-R0C1</td>\n",
       "      <td>0</td>\n",
       "    </tr>\n",
       "    <tr>\n",
       "      <th>2</th>\n",
       "      <td>imgID1-R0C2</td>\n",
       "      <td>0</td>\n",
       "    </tr>\n",
       "    <tr>\n",
       "      <th>3</th>\n",
       "      <td>imgID1-R0C3</td>\n",
       "      <td>0</td>\n",
       "    </tr>\n",
       "    <tr>\n",
       "      <th>4</th>\n",
       "      <td>imgID1-R0C4</td>\n",
       "      <td>0</td>\n",
       "    </tr>\n",
       "    <tr>\n",
       "      <th>5</th>\n",
       "      <td>imgID1-R0C5</td>\n",
       "      <td>0</td>\n",
       "    </tr>\n",
       "    <tr>\n",
       "      <th>6</th>\n",
       "      <td>imgID1-R0C6</td>\n",
       "      <td>0</td>\n",
       "    </tr>\n",
       "    <tr>\n",
       "      <th>7</th>\n",
       "      <td>imgID1-R0C7</td>\n",
       "      <td>0</td>\n",
       "    </tr>\n",
       "    <tr>\n",
       "      <th>8</th>\n",
       "      <td>imgID1-R0C8</td>\n",
       "      <td>0</td>\n",
       "    </tr>\n",
       "    <tr>\n",
       "      <th>9</th>\n",
       "      <td>imgID1-R0C9</td>\n",
       "      <td>0</td>\n",
       "    </tr>\n",
       "    <tr>\n",
       "      <th>10</th>\n",
       "      <td>imgID1-R0C10</td>\n",
       "      <td>0</td>\n",
       "    </tr>\n",
       "    <tr>\n",
       "      <th>11</th>\n",
       "      <td>imgID1-R0C11</td>\n",
       "      <td>0</td>\n",
       "    </tr>\n",
       "    <tr>\n",
       "      <th>12</th>\n",
       "      <td>imgID1-R0C12</td>\n",
       "      <td>0</td>\n",
       "    </tr>\n",
       "    <tr>\n",
       "      <th>13</th>\n",
       "      <td>imgID1-R0C13</td>\n",
       "      <td>0</td>\n",
       "    </tr>\n",
       "    <tr>\n",
       "      <th>14</th>\n",
       "      <td>imgID1-R0C14</td>\n",
       "      <td>0</td>\n",
       "    </tr>\n",
       "    <tr>\n",
       "      <th>15</th>\n",
       "      <td>imgID1-R0C15</td>\n",
       "      <td>0</td>\n",
       "    </tr>\n",
       "    <tr>\n",
       "      <th>16</th>\n",
       "      <td>imgID1-R0C16</td>\n",
       "      <td>0</td>\n",
       "    </tr>\n",
       "    <tr>\n",
       "      <th>17</th>\n",
       "      <td>imgID1-R0C17</td>\n",
       "      <td>0</td>\n",
       "    </tr>\n",
       "    <tr>\n",
       "      <th>18</th>\n",
       "      <td>imgID1-R0C18</td>\n",
       "      <td>0</td>\n",
       "    </tr>\n",
       "    <tr>\n",
       "      <th>19</th>\n",
       "      <td>imgID1-R0C19</td>\n",
       "      <td>0</td>\n",
       "    </tr>\n",
       "    <tr>\n",
       "      <th>20</th>\n",
       "      <td>imgID1-R0C20</td>\n",
       "      <td>0</td>\n",
       "    </tr>\n",
       "    <tr>\n",
       "      <th>21</th>\n",
       "      <td>imgID1-R0C21</td>\n",
       "      <td>0</td>\n",
       "    </tr>\n",
       "    <tr>\n",
       "      <th>22</th>\n",
       "      <td>imgID1-R0C22</td>\n",
       "      <td>0</td>\n",
       "    </tr>\n",
       "    <tr>\n",
       "      <th>23</th>\n",
       "      <td>imgID1-R0C23</td>\n",
       "      <td>0</td>\n",
       "    </tr>\n",
       "    <tr>\n",
       "      <th>24</th>\n",
       "      <td>imgID1-R0C24</td>\n",
       "      <td>0</td>\n",
       "    </tr>\n",
       "    <tr>\n",
       "      <th>25</th>\n",
       "      <td>imgID1-R0C25</td>\n",
       "      <td>0</td>\n",
       "    </tr>\n",
       "    <tr>\n",
       "      <th>26</th>\n",
       "      <td>imgID1-R0C26</td>\n",
       "      <td>0</td>\n",
       "    </tr>\n",
       "    <tr>\n",
       "      <th>27</th>\n",
       "      <td>imgID1-R0C27</td>\n",
       "      <td>0</td>\n",
       "    </tr>\n",
       "    <tr>\n",
       "      <th>28</th>\n",
       "      <td>imgID1-R0C28</td>\n",
       "      <td>0</td>\n",
       "    </tr>\n",
       "    <tr>\n",
       "      <th>29</th>\n",
       "      <td>imgID1-R0C29</td>\n",
       "      <td>0</td>\n",
       "    </tr>\n",
       "    <tr>\n",
       "      <th>...</th>\n",
       "      <td>...</td>\n",
       "      <td>...</td>\n",
       "    </tr>\n",
       "    <tr>\n",
       "      <th>6095</th>\n",
       "      <td>imgID3-R34C5</td>\n",
       "      <td>0</td>\n",
       "    </tr>\n",
       "    <tr>\n",
       "      <th>6096</th>\n",
       "      <td>imgID3-R34C6</td>\n",
       "      <td>0</td>\n",
       "    </tr>\n",
       "    <tr>\n",
       "      <th>6097</th>\n",
       "      <td>imgID3-R34C7</td>\n",
       "      <td>0</td>\n",
       "    </tr>\n",
       "    <tr>\n",
       "      <th>6098</th>\n",
       "      <td>imgID3-R34C8</td>\n",
       "      <td>0</td>\n",
       "    </tr>\n",
       "    <tr>\n",
       "      <th>6099</th>\n",
       "      <td>imgID3-R34C9</td>\n",
       "      <td>0</td>\n",
       "    </tr>\n",
       "    <tr>\n",
       "      <th>6100</th>\n",
       "      <td>imgID3-R34C10</td>\n",
       "      <td>0</td>\n",
       "    </tr>\n",
       "    <tr>\n",
       "      <th>6101</th>\n",
       "      <td>imgID3-R34C11</td>\n",
       "      <td>0</td>\n",
       "    </tr>\n",
       "    <tr>\n",
       "      <th>6102</th>\n",
       "      <td>imgID3-R34C12</td>\n",
       "      <td>0</td>\n",
       "    </tr>\n",
       "    <tr>\n",
       "      <th>6103</th>\n",
       "      <td>imgID3-R34C13</td>\n",
       "      <td>0</td>\n",
       "    </tr>\n",
       "    <tr>\n",
       "      <th>6104</th>\n",
       "      <td>imgID3-R34C14</td>\n",
       "      <td>0</td>\n",
       "    </tr>\n",
       "    <tr>\n",
       "      <th>6105</th>\n",
       "      <td>imgID3-R34C15</td>\n",
       "      <td>0</td>\n",
       "    </tr>\n",
       "    <tr>\n",
       "      <th>6106</th>\n",
       "      <td>imgID3-R34C16</td>\n",
       "      <td>0</td>\n",
       "    </tr>\n",
       "    <tr>\n",
       "      <th>6107</th>\n",
       "      <td>imgID3-R34C17</td>\n",
       "      <td>0</td>\n",
       "    </tr>\n",
       "    <tr>\n",
       "      <th>6108</th>\n",
       "      <td>imgID3-R34C18</td>\n",
       "      <td>0</td>\n",
       "    </tr>\n",
       "    <tr>\n",
       "      <th>6109</th>\n",
       "      <td>imgID3-R34C19</td>\n",
       "      <td>0</td>\n",
       "    </tr>\n",
       "    <tr>\n",
       "      <th>6110</th>\n",
       "      <td>imgID3-R34C20</td>\n",
       "      <td>0</td>\n",
       "    </tr>\n",
       "    <tr>\n",
       "      <th>6111</th>\n",
       "      <td>imgID3-R34C21</td>\n",
       "      <td>0</td>\n",
       "    </tr>\n",
       "    <tr>\n",
       "      <th>6112</th>\n",
       "      <td>imgID3-R34C22</td>\n",
       "      <td>0</td>\n",
       "    </tr>\n",
       "    <tr>\n",
       "      <th>6113</th>\n",
       "      <td>imgID3-R34C23</td>\n",
       "      <td>0</td>\n",
       "    </tr>\n",
       "    <tr>\n",
       "      <th>6114</th>\n",
       "      <td>imgID3-R34C24</td>\n",
       "      <td>0</td>\n",
       "    </tr>\n",
       "    <tr>\n",
       "      <th>6115</th>\n",
       "      <td>imgID3-R34C25</td>\n",
       "      <td>0</td>\n",
       "    </tr>\n",
       "    <tr>\n",
       "      <th>6116</th>\n",
       "      <td>imgID3-R34C26</td>\n",
       "      <td>0</td>\n",
       "    </tr>\n",
       "    <tr>\n",
       "      <th>6117</th>\n",
       "      <td>imgID3-R34C27</td>\n",
       "      <td>0</td>\n",
       "    </tr>\n",
       "    <tr>\n",
       "      <th>6118</th>\n",
       "      <td>imgID3-R34C28</td>\n",
       "      <td>0</td>\n",
       "    </tr>\n",
       "    <tr>\n",
       "      <th>6119</th>\n",
       "      <td>imgID3-R34C29</td>\n",
       "      <td>0</td>\n",
       "    </tr>\n",
       "    <tr>\n",
       "      <th>6120</th>\n",
       "      <td>imgID3-R34C30</td>\n",
       "      <td>0</td>\n",
       "    </tr>\n",
       "    <tr>\n",
       "      <th>6121</th>\n",
       "      <td>imgID3-R34C31</td>\n",
       "      <td>0</td>\n",
       "    </tr>\n",
       "    <tr>\n",
       "      <th>6122</th>\n",
       "      <td>imgID3-R34C32</td>\n",
       "      <td>0</td>\n",
       "    </tr>\n",
       "    <tr>\n",
       "      <th>6123</th>\n",
       "      <td>imgID3-R34C33</td>\n",
       "      <td>0</td>\n",
       "    </tr>\n",
       "    <tr>\n",
       "      <th>6124</th>\n",
       "      <td>imgID3-R34C34</td>\n",
       "      <td>0</td>\n",
       "    </tr>\n",
       "  </tbody>\n",
       "</table>\n",
       "<p>6125 rows × 2 columns</p>\n",
       "</div>"
      ],
      "text/plain": [
       "     Nombre Segmento  Plasticos\n",
       "0        imgID1-R0C0          0\n",
       "1        imgID1-R0C1          0\n",
       "2        imgID1-R0C2          0\n",
       "3        imgID1-R0C3          0\n",
       "4        imgID1-R0C4          0\n",
       "5        imgID1-R0C5          0\n",
       "6        imgID1-R0C6          0\n",
       "7        imgID1-R0C7          0\n",
       "8        imgID1-R0C8          0\n",
       "9        imgID1-R0C9          0\n",
       "10      imgID1-R0C10          0\n",
       "11      imgID1-R0C11          0\n",
       "12      imgID1-R0C12          0\n",
       "13      imgID1-R0C13          0\n",
       "14      imgID1-R0C14          0\n",
       "15      imgID1-R0C15          0\n",
       "16      imgID1-R0C16          0\n",
       "17      imgID1-R0C17          0\n",
       "18      imgID1-R0C18          0\n",
       "19      imgID1-R0C19          0\n",
       "20      imgID1-R0C20          0\n",
       "21      imgID1-R0C21          0\n",
       "22      imgID1-R0C22          0\n",
       "23      imgID1-R0C23          0\n",
       "24      imgID1-R0C24          0\n",
       "25      imgID1-R0C25          0\n",
       "26      imgID1-R0C26          0\n",
       "27      imgID1-R0C27          0\n",
       "28      imgID1-R0C28          0\n",
       "29      imgID1-R0C29          0\n",
       "...              ...        ...\n",
       "6095    imgID3-R34C5          0\n",
       "6096    imgID3-R34C6          0\n",
       "6097    imgID3-R34C7          0\n",
       "6098    imgID3-R34C8          0\n",
       "6099    imgID3-R34C9          0\n",
       "6100   imgID3-R34C10          0\n",
       "6101   imgID3-R34C11          0\n",
       "6102   imgID3-R34C12          0\n",
       "6103   imgID3-R34C13          0\n",
       "6104   imgID3-R34C14          0\n",
       "6105   imgID3-R34C15          0\n",
       "6106   imgID3-R34C16          0\n",
       "6107   imgID3-R34C17          0\n",
       "6108   imgID3-R34C18          0\n",
       "6109   imgID3-R34C19          0\n",
       "6110   imgID3-R34C20          0\n",
       "6111   imgID3-R34C21          0\n",
       "6112   imgID3-R34C22          0\n",
       "6113   imgID3-R34C23          0\n",
       "6114   imgID3-R34C24          0\n",
       "6115   imgID3-R34C25          0\n",
       "6116   imgID3-R34C26          0\n",
       "6117   imgID3-R34C27          0\n",
       "6118   imgID3-R34C28          0\n",
       "6119   imgID3-R34C29          0\n",
       "6120   imgID3-R34C30          0\n",
       "6121   imgID3-R34C31          0\n",
       "6122   imgID3-R34C32          0\n",
       "6123   imgID3-R34C33          0\n",
       "6124   imgID3-R34C34          0\n",
       "\n",
       "[6125 rows x 2 columns]"
      ]
     },
     "execution_count": 2,
     "metadata": {},
     "output_type": "execute_result"
    }
   ],
   "source": [
    "df2 = pd.read_csv(\"MuestrasPrueba (2,3,4-11-17)/Recortada/2240x2240/segmentosPlastico-3img.csv\")\n",
    "\n",
    "filtrado = df2['Nombre Segmento'].str.match(pat = '(imgID1)|(imgID2)|(imgID3)|(imgID3.2)') \n",
    "df3 = df2[filtrado]\n",
    "df3 #Ya tenemos un dataframe donde solo se encuentran las imágenes mapeadas"
   ]
  },
  {
   "cell_type": "code",
   "execution_count": 5,
   "metadata": {},
   "outputs": [
    {
     "data": {
      "text/plain": [
       "6125"
      ]
     },
     "execution_count": 5,
     "metadata": {},
     "output_type": "execute_result"
    }
   ],
   "source": [
    "def filtrado5img(ruta = getcwd()):\n",
    "    return [arch.name for arch in scandir(ruta) if (arch.is_file() \n",
    "                                                    and arch.name.endswith('.jpg') \n",
    "                                                    and (arch.name.startswith('imgID1')\n",
    "                                                         or  arch.name.startswith('imgID2')\n",
    "                                                         or  arch.name.startswith('imgID3')\n",
    "                                                         or  arch.name.startswith('imgID3.2')))]\n",
    "\n",
    "\n",
    "listImg = filtrado5img(\"F:\\Microplasticos\\MuestrasPrueba (2,3,4-11-17)\\Recortada\\\\2240x2240\\Segmentadas\")\n",
    "len(listImg)"
   ]
  },
  {
   "cell_type": "code",
   "execution_count": 6,
   "metadata": {},
   "outputs": [
    {
     "data": {
      "image/png": "[encoded data removed]",
      "text/plain": [
       "<Figure size 432x288 with 1 Axes>"
      ]
     },
     "metadata": {},
     "output_type": "display_data"
    }
   ],
   "source": [
    "#Contamos cuantos fragmentos tenemos con/sin plásticos\n",
    "unos = df3[df3['Plasticos'] == 1].count()\n",
    "ceros = df3[df3['Plasticos'] == 0].count()\n",
    "\n",
    "#Graficos de barras bonicos ---> https://plot.ly/matplotlib/bar-charts/\n",
    "plt.barh([\"Con plástico\",\"Sin plástico\"],[unos.values[0],ceros.values[0]],color=\"red\",height=0.3)\n",
    "plt.title(\"Nº de segmentos de imagen con/sin plásticos\")\n",
    "\n",
    "plt.show()"
   ]
  },
  {
   "cell_type": "code",
   "execution_count": 37,
   "metadata": {},
   "outputs": [
    {
     "name": "stdout",
     "output_type": "stream",
     "text": [
      "['imgID1-R1C1', 'imgID1-R3C20', 'imgID1-R5C20']\n"
     ]
    },
    {
     "data": {
      "text/plain": [
       "909"
      ]
     },
     "execution_count": 37,
     "metadata": {},
     "output_type": "execute_result"
    }
   ],
   "source": [
    "unosList = df3[df3['Plasticos'] == 1]['Nombre Segmento'].tolist()\n",
    "cerosList = df3[df3['Plasticos'] == 0]['Nombre Segmento'].tolist()\n",
    "random.shuffle(cerosList)\n",
    "cerosListTrun = cerosList[:len(unosList)]\n",
    "print(unosList[:3])\n",
    "len(cerosList[:len(unosList)]) #Tenemos una lista de segmentos sin plastico aleatoria del mismo len que con plástico\n"
   ]
  },
  {
   "cell_type": "code",
   "execution_count": 81,
   "metadata": {},
   "outputs": [
    {
     "name": "stdout",
     "output_type": "stream",
     "text": [
      "(1600, 64, 64, 3)\n",
      "(218, 64, 64, 3)\n"
     ]
    }
   ],
   "source": [
    "random.shuffle(unosList)\n",
    "X_trainList = cerosListTrun[:800] + unosList[:800]\n",
    "random.shuffle(X_trainList)\n",
    "X_testList = cerosListTrun[800:] + unosList[800:]\n",
    "random.shuffle(X_testList)\n",
    "\n",
    "#Para la Y buscamos cada elemento y dependiendo de en \n",
    "#que lista esté añadimos un 0 o un 1 a la lista\n",
    "\n",
    "Y_train = []\n",
    "for i in X_trainList:\n",
    "    if i in cerosList : \n",
    "        Y_train.extend([0])\n",
    "    else:\n",
    "        Y_train.extend([1])\n",
    "\n",
    "\n",
    "Y_test = []\n",
    "for i in X_testList:\n",
    "    if i in cerosList : \n",
    "        Y_test.extend([0])\n",
    "    else:\n",
    "        Y_test.extend([1])\n",
    "        \n",
    "#Array con todas las imágenes a entrenar \n",
    "X_train = np.array([np.array(Image.open(\"MuestrasPrueba (2,3,4-11-17)/Recortada/2240x2240/Segmentadas/\"+img + \".jpg\")) for img in X_trainList] )\n",
    "print(X_train.shape)\n",
    "X_test = np.array([np.array(Image.open(\"MuestrasPrueba (2,3,4-11-17)/Recortada/2240x2240/Segmentadas/\"+img + \".jpg\")) for img in X_testList] )\n",
    "print(X_test.shape)\n"
   ]
  },
  {
   "cell_type": "code",
   "execution_count": 82,
   "metadata": {},
   "outputs": [
    {
     "name": "stdout",
     "output_type": "stream",
     "text": [
      "(1600, 64, 64, 3)\n",
      "(218, 64, 64, 3)\n"
     ]
    }
   ],
   "source": [
    "#Normalizamos la imagen\n",
    "X_train= X_train / 255.0\n",
    "X_test= X_test / 255.0\n",
    "print(X_train.shape)\n",
    "print(X_test.shape)"
   ]
  },
  {
   "cell_type": "markdown",
   "metadata": {},
   "source": [
    "### Paso 1.2 Creación de la red neuronal y entrenamiento"
   ]
  },
  {
   "cell_type": "code",
   "execution_count": 42,
   "metadata": {},
   "outputs": [
    {
     "name": "stderr",
     "output_type": "stream",
     "text": [
      "Using TensorFlow backend.\n"
     ]
    }
   ],
   "source": [
    "from keras.models                import Sequential, Model\n",
    "from keras.layers                import Dense, Input, Conv2D, MaxPool2D, Flatten, BatchNormalization, Dropout\n",
    "from keras.layers                import Conv2DTranspose, UpSampling2D, MaxPooling2D, Reshape, Activation, ReLU\n",
    "from keras.preprocessing.image   import ImageDataGenerator\n",
    "from keras.utils                 import to_categorical\n",
    "from keras.optimizers            import SGD"
   ]
  },
  {
   "cell_type": "code",
   "execution_count": 83,
   "metadata": {},
   "outputs": [],
   "source": [
    "model = Sequential()\n",
    "model.add(Conv2D(16, (3, 3), input_shape=(64, 64,3)))\n",
    "model.add(MaxPooling2D(pool_size=(2, 2))) #Comprimir la info y hacer que sea menos propensa a errores de traslaciones\n",
    "model.add(Activation('relu'))\n",
    "\n",
    "model.add(Conv2D(64, (3, 3)))\n",
    "model.add(MaxPooling2D(pool_size=(2, 2))) #Comprimir la info y hacer que sea menos propensa a errores de traslaciones\n",
    "model.add(Activation('relu'))\n",
    "\n",
    "model.add(Flatten())  \n",
    "model.add(Dense(128, activation='relu'))\n",
    "model.add(Dense(64, activation='relu'))\n",
    "model.add(Dropout(0.5))\n",
    "model.add(Dense(1, activation='sigmoid'))\n",
    "model.compile(loss='binary_crossentropy', optimizer='adam', metrics=['accuracy']) "
   ]
  },
  {
   "cell_type": "code",
   "execution_count": 84,
   "metadata": {},
   "outputs": [
    {
     "name": "stdout",
     "output_type": "stream",
     "text": [
      "Epoch 1/10\n",
      "1600/1600 [==============================] - 9s 6ms/step - loss: 0.6883 - acc: 0.5587\n",
      "Epoch 2/10\n",
      "1600/1600 [==============================] - 9s 6ms/step - loss: 0.6661 - acc: 0.6200\n",
      "Epoch 3/10\n",
      "1600/1600 [==============================] - 9s 5ms/step - loss: 0.6177 - acc: 0.6606\n",
      "Epoch 4/10\n",
      "1600/1600 [==============================] - 9s 6ms/step - loss: 0.5829 - acc: 0.6875\n",
      "Epoch 5/10\n",
      "1600/1600 [==============================] - 9s 6ms/step - loss: 0.5374 - acc: 0.7181\n",
      "Epoch 6/10\n",
      "1600/1600 [==============================] - 9s 6ms/step - loss: 0.4541 - acc: 0.7919A: 5s - loss: 0.457 - ETA: 2s - loss: 0.459\n",
      "Epoch 7/10\n",
      "1600/1600 [==============================] - 9s 5ms/step - loss: 0.3299 - acc: 0.8594A: 2s - loss: 0.3084 -\n",
      "Epoch 8/10\n",
      "1600/1600 [==============================] - 9s 5ms/step - loss: 0.2459 - acc: 0.9062A: 1s - loss: 0.2387 - a\n",
      "Epoch 9/10\n",
      "1600/1600 [==============================] - 9s 5ms/step - loss: 0.1613 - acc: 0.9437\n",
      "Epoch 10/10\n",
      "1600/1600 [==============================] - 9s 5ms/step - loss: 0.1148 - acc: 0.9575\n"
     ]
    },
    {
     "data": {
      "text/plain": [
       "<keras.callbacks.History at 0x2ec1193ad68>"
      ]
     },
     "execution_count": 84,
     "metadata": {},
     "output_type": "execute_result"
    }
   ],
   "source": [
    "model.fit(X_train, Y_train,  batch_size=32, epochs=10)"
   ]
  },
  {
   "cell_type": "code",
   "execution_count": 85,
   "metadata": {},
   "outputs": [
    {
     "name": "stdout",
     "output_type": "stream",
     "text": [
      "---Evaluacion----\n",
      "218/218 [==============================] - 1s 3ms/step\n",
      "[0.72740206259106277, 0.7889908267817366]\n"
     ]
    }
   ],
   "source": [
    "print(\"---Evaluacion----\")\n",
    "ev = model.evaluate(X_test, Y_test, batch_size=32)\n",
    "print(ev) #ev_loss - ev_acc"
   ]
  },
  {
   "cell_type": "code",
   "execution_count": 91,
   "metadata": {},
   "outputs": [
    {
     "data": {
      "image/png": "[encoded data removed]",
      "text/plain": [
       "<Figure size 432x288 with 1 Axes>"
      ]
     },
     "metadata": {},
     "output_type": "display_data"
    },
    {
     "data": {
      "text/plain": [
       "array([[ 0.00483335]], dtype=float32)"
      ]
     },
     "execution_count": 91,
     "metadata": {},
     "output_type": "execute_result"
    }
   ],
   "source": [
    "ejemplo = np.array(Image.open(\"MuestrasPrueba (2,3,4-11-17)/Recortada/2240x2240/Segmentadas/imgID8-R20C15.jpg\"))\n",
    "plt.imshow(ejemplo)\n",
    "plt.show()\n",
    "\n",
    "prueba = ejemplo[np.newaxis,:]/255\n",
    "#prueba.shape\n",
    "model.predict(prueba)"
   ]
  },
  {
   "cell_type": "code",
   "execution_count": 92,
   "metadata": {},
   "outputs": [
    {
     "data": {
      "image/png": "[encoded data removed]",
      "text/plain": [
       "<Figure size 432x288 with 1 Axes>"
      ]
     },
     "metadata": {},
     "output_type": "display_data"
    },
    {
     "data": {
      "text/plain": [
       "array([[ 0.00612791]], dtype=float32)"
      ]
     },
     "execution_count": 92,
     "metadata": {},
     "output_type": "execute_result"
    }
   ],
   "source": [
    "ejemplo = np.array(Image.open(\"MuestrasPrueba (2,3,4-11-17)/Recortada/2240x2240/Segmentadas/imgID1-R25C23.jpg\"))\n",
    "plt.imshow(ejemplo)\n",
    "plt.show()\n",
    "\n",
    "prueba = ejemplo[np.newaxis,:]/255\n",
    "#prueba.shape\n",
    "model.predict(prueba)"
   ]
  },
  {
   "cell_type": "code",
   "execution_count": 97,
   "metadata": {},
   "outputs": [
    {
     "name": "stdout",
     "output_type": "stream",
     "text": [
      "(109, 64, 64, 3)\n",
      "[1 1 1 1 1 1 1 1 1 1 1 1 1 1 1 1 1 1 1 1 1 1 1 1 1 1 1 1 1 1 1 1 1 1 1 1 1\n",
      " 1 1 1 1 1 1 1 1 1 1 1 1 1 1 1 1 1 1 1 1 1 1 1 1 1 1 1 1 1 1 1 1 1 1 1 1 1\n",
      " 1 1 1 1 1 1 1 1 1 1 1 1 1 1 1 1 1 1 1 1 1 1 1 1 1 1 1 1 1 1 1 1 1 1 1]\n",
      "\n",
      "------Evaluación para imágenes con solo plastico conjunto test--------\n",
      "109/109 [==============================] - 0s 2ms/step\n",
      "[0.48094879815337854, 0.8532110097211435]\n"
     ]
    }
   ],
   "source": [
    "plasticosList = []\n",
    "for i in X_testList:\n",
    "    if i in unosList : \n",
    "        plasticosList.extend([i])\n",
    "plasticos = np.array([np.array(Image.open(\"MuestrasPrueba (2,3,4-11-17)/Recortada/2240x2240/Segmentadas/\"+img + \".jpg\")) for img in plasticosList] )\n",
    "print(plasticos.shape)\n",
    "\n",
    "plasticos = plasticos/255\n",
    "Y_plasticos = np.ones((len(plasticosList),),dtype=int)\n",
    "print(Y_plasticos)\n",
    "print(\"\\n------Evaluación para imágenes con solo plastico conjunto test--------\")\n",
    "ev3 = model.evaluate(plasticos,Y_plasticos, batch_size=32)\n",
    "print(ev3) #ev_loss - ev_acc"
   ]
  },
  {
   "cell_type": "code",
   "execution_count": 101,
   "metadata": {},
   "outputs": [
    {
     "name": "stdout",
     "output_type": "stream",
     "text": [
      "(109, 64, 64, 3)\n",
      "[0 0 0 0 0 0 0 0 0 0 0 0 0 0 0 0 0 0 0 0 0 0 0 0 0 0 0 0 0 0 0 0 0 0 0 0 0\n",
      " 0 0 0 0 0 0 0 0 0 0 0 0 0 0 0 0 0 0 0 0 0 0 0 0 0 0 0 0 0 0 0 0 0 0 0 0 0\n",
      " 0 0 0 0 0 0 0 0 0 0 0 0 0 0 0 0 0 0 0 0 0 0 0 0 0 0 0 0 0 0 0 0 0 0 0]\n",
      "\n",
      "------Evaluación para imágenes con arena conjunto test--------\n",
      "109/109 [==============================] - 0s 2ms/step\n",
      "[0.97385535983864324, 0.72477064438916128]\n"
     ]
    }
   ],
   "source": [
    "arenaList = []\n",
    "for i in X_testList:\n",
    "    if i in cerosList : \n",
    "        arenaList.extend([i])\n",
    "arena = np.array([np.array(Image.open(\"MuestrasPrueba (2,3,4-11-17)/Recortada/2240x2240/Segmentadas/\"+img + \".jpg\")) for img in arenaList] )\n",
    "print(arena.shape)\n",
    "\n",
    "arena = arena/255\n",
    "Y_arena= np.zeros((len(arenaList),),dtype=int)\n",
    "print(Y_arena)\n",
    "print(\"\\n------Evaluación para imágenes con arena conjunto test--------\")\n",
    "ev3 = model.evaluate(arena,Y_arena, batch_size=32)\n",
    "print(ev3) #ev_loss - ev_acc"
   ]
  },
  {
   "cell_type": "code",
   "execution_count": 89,
   "metadata": {},
   "outputs": [
    {
     "name": "stdout",
     "output_type": "stream",
     "text": [
      "    Nombre Segmento  Plasticos\n",
      "36      imgID1-R1C1          1\n",
      "125    imgID1-R3C20          1\n",
      "195    imgID1-R5C20          1\n",
      "196    imgID1-R5C21          1\n",
      "197    imgID1-R5C22          1\n",
      "\n",
      "Las dimensiones del array son:  (909, 64, 64, 3)\n",
      "\n",
      "------Evaluación para imágenes con solo plastico--------\n",
      "909/909 [==============================] - 2s 2ms/step\n",
      "[0.15363790460414486, 0.95049504970166554]\n"
     ]
    }
   ],
   "source": [
    "unos = df3[df3['Plasticos'] == 1]\n",
    "print(unos.head())\n",
    "im_array = np.array([np.array(Image.open(\"MuestrasPrueba (2,3,4-11-17)/Recortada/2240x2240/Segmentadas/\"+img+\".jpg\")) for img in unos['Nombre Segmento'].tolist()] )\n",
    "\n",
    "print(\"\\nLas dimensiones del array son: \", im_array.shape)\n",
    "\n",
    "X_eval = im_array/255\n",
    "Y_eval = unos['Plasticos'].values\n",
    "\n",
    "print(\"\\n------Evaluación para imágenes con solo plastico--------\")\n",
    "ev3 = model.evaluate(X_eval,Y_eval, batch_size=32)\n",
    "print(ev3) #ev_loss - ev_acc"
   ]
  },
  {
   "cell_type": "code",
   "execution_count": 90,
   "metadata": {},
   "outputs": [
    {
     "name": "stdout",
     "output_type": "stream",
     "text": [
      "  Nombre Segmento  Plasticos\n",
      "0     imgID1-R0C0          0\n",
      "1     imgID1-R0C1          0\n",
      "2     imgID1-R0C2          0\n",
      "3     imgID1-R0C3          0\n",
      "4     imgID1-R0C4          0\n",
      "\n",
      "Las dimensiones del array son:  (5216, 64, 64, 3)\n",
      "\n",
      "------Evaluación para imágenes con arena--------\n",
      "5216/5216 [==============================] - 13s 2ms/step\n",
      "[0.61691742920619574, 0.81671779141104295]\n"
     ]
    }
   ],
   "source": [
    "unos = df3[df3['Plasticos'] == 0]\n",
    "print(unos.head())\n",
    "im_array = np.array([np.array(Image.open(\"MuestrasPrueba (2,3,4-11-17)/Recortada/2240x2240/Segmentadas/\"+img+\".jpg\")) for img in unos['Nombre Segmento'].tolist()] )\n",
    "\n",
    "print(\"\\nLas dimensiones del array son: \", im_array.shape)\n",
    "\n",
    "X_eval = im_array/255\n",
    "Y_eval = unos['Plasticos'].values\n",
    "\n",
    "print(\"\\n------Evaluación para imágenes con arena--------\")\n",
    "ev3 = model.evaluate(X_eval,Y_eval, batch_size=32)\n",
    "print(ev3) #ev_loss - ev_acc"
   ]
  },
  {
   "cell_type": "markdown",
   "metadata": {},
   "source": [
    "## Paso 2: Aumentar los datos para entrenar la red con más datos y estando las clases balanceadas"
   ]
  }
 ],
 "metadata": {
  "kernelspec": {
   "display_name": "Python 3",
   "language": "python",
   "name": "python3"
  },
  "language_info": {
   "codemirror_mode": {
    "name": "ipython",
    "version": 3
   },
   "file_extension": ".py",
   "mimetype": "text/x-python",
   "name": "python",
   "nbconvert_exporter": "python",
   "pygments_lexer": "ipython3",
   "version": "3.6.4"
  }
 },
 "nbformat": 4,
 "nbformat_minor": 2
}
