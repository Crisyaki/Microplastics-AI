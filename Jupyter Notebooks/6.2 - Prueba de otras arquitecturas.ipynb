{
 "cells": [
  {
   "cell_type": "markdown",
   "metadata": {},
   "source": [
    "## Preparación de los datos"
   ]
  },
  {
   "cell_type": "code",
   "execution_count": 1,
   "metadata": {},
   "outputs": [],
   "source": [
    "import matplotlib.pyplot as plt\n",
    "import numpy as np\n",
    "from PIL import Image\n",
    "import pandas as pd\n"
   ]
  },
  {
   "cell_type": "code",
   "execution_count": 2,
   "metadata": {},
   "outputs": [
    {
     "name": "stdout",
     "output_type": "stream",
     "text": [
      "['1.jpg', '2.jpg', '3.jpg', '4.jpg', '5.jpg', '6.jpg', '7.jpg', '8.jpg', '9.jpg']\n"
     ]
    }
   ],
   "source": [
    "from os import scandir, getcwd\n",
    "\n",
    "#Obtenemos la lista de las imágenes a redimensionar\n",
    "def lsJPG(ruta = getcwd()):\n",
    "    return [arch.name for arch in scandir(ruta) if (arch.is_file() and not arch.name.endswith('.2.jpg') \n",
    "                                                    and not arch.name.endswith('0.jpg') #no cargamos la img10\n",
    "                                                    and arch.name.endswith('.jpg'))] #no segmentamos las de test\n",
    "\n",
    "listImg = lsJPG(\"F:\\Microplasticos\\MuestrasPrueba (2,3,4-11-17)\\Recortada\\\\2240x2240\")\n",
    "print(listImg)"
   ]
  },
  {
   "cell_type": "code",
   "execution_count": 3,
   "metadata": {},
   "outputs": [
    {
     "data": {
      "text/plain": [
       "44100"
      ]
     },
     "execution_count": 3,
     "metadata": {},
     "output_type": "execute_result"
    }
   ],
   "source": [
    "#Lista con las imágenes ya segmentadas\n",
    "n = int(2240/32) #70\n",
    "listaRegiones = []\n",
    "for img in listImg:\n",
    "    recort = Image.open(\"MuestrasPrueba (2,3,4-11-17)/Recortada/2240x2240/\"+img)\n",
    "    for i in range(0,n):\n",
    "        for j in range(0,n):\n",
    "            subtring = img[0:-4]\n",
    "            listaRegiones.append(\"imgID\"+subtring+\"-R\"+str(i)+\"C\"+str(j))\n",
    "\n",
    "len(listaRegiones)"
   ]
  },
  {
   "cell_type": "code",
   "execution_count": 7,
   "metadata": {},
   "outputs": [
    {
     "name": "stdout",
     "output_type": "stream",
     "text": [
      "DatosImgTODOS.csv\n"
     ]
    }
   ],
   "source": [
    "#Vamos a cargar el CSV con el Data Aug de la prueba pasada\n",
    "def lsCSV(ruta = getcwd()):\n",
    "    return[arch.name for arch in scandir(ruta) if (arch.is_file() and arch.name.endswith('.csv')\n",
    "                                                   and arch.name.endswith('TODOS.csv'))]\n",
    "\n",
    "listCSV = lsCSV(\"F:\\Microplasticos\\MuestrasPrueba (2,3,4-11-17)\\Recortada\\\\2240x2240\\CSV 32x32 Java\")\n",
    "csvTodos = listCSV[0]\n",
    "print(csvTodos)"
   ]
  },
  {
   "cell_type": "code",
   "execution_count": 9,
   "metadata": {},
   "outputs": [
    {
     "name": "stdout",
     "output_type": "stream",
     "text": [
      "Nombre Segmento    25152\n",
      "Plasticos          25152\n",
      "dtype: int64\n",
      "Nombre Segmento    40956\n",
      "Plasticos          40956\n",
      "dtype: int64\n"
     ]
    }
   ],
   "source": [
    "dfTodos = pd.read_csv(\"MuestrasPrueba (2,3,4-11-17)/Recortada/2240x2240/CSV 32x32 Java/\" + csvTodos)\n",
    "unos = dfTodos[dfTodos['Plasticos'] == 1].count()\n",
    "ceros = dfTodos[dfTodos['Plasticos'] == 0].count()"
   ]
  },
  {
   "cell_type": "code",
   "execution_count": 11,
   "metadata": {},
   "outputs": [
    {
     "name": "stdout",
     "output_type": "stream",
     "text": [
      "Imágenes con plásticos:  25152\n",
      "Imágenes sin plásticos:  40956\n",
      "Ahora igualamos el nº de elementos: \n",
      "cerosList =  25152\n"
     ]
    }
   ],
   "source": [
    "import random\n",
    "unosList = dfTodos[dfTodos['Plasticos'] == 1]['Nombre Segmento'].tolist()\n",
    "cerosList = dfTodos[dfTodos['Plasticos'] == 0]['Nombre Segmento'].tolist()\n",
    "print(\"Imágenes con plásticos: \", len(unosList))\n",
    "print(\"Imágenes sin plásticos: \", len(cerosList))\n",
    "\n",
    "random.shuffle(cerosList)\n",
    "random.shuffle(unosList)\n",
    "cerosList = cerosList[:len(unosList)]\n",
    "print(\"Ahora igualamos el nº de elementos: \\ncerosList = \", len(cerosList))"
   ]
  },
  {
   "cell_type": "code",
   "execution_count": 12,
   "metadata": {},
   "outputs": [],
   "source": [
    "from sklearn.model_selection import train_test_split\n",
    "x = unosList + cerosList\n",
    "y = np.concatenate([np.ones((len(unosList),),dtype=int),np.zeros((len(cerosList),),dtype=int)])\n",
    "# Con stratify=y nos aseguramos que se mantenga la proporción 50% 50%\n",
    "X_trainList, X_testList, Y_train, Y_test = train_test_split(x, y, test_size = 0.3, random_state = 0, stratify=y)"
   ]
  },
  {
   "cell_type": "code",
   "execution_count": 22,
   "metadata": {},
   "outputs": [
    {
     "data": {
      "text/html": [
       "<div>\n",
       "<style scoped>\n",
       "    .dataframe tbody tr th:only-of-type {\n",
       "        vertical-align: middle;\n",
       "    }\n",
       "\n",
       "    .dataframe tbody tr th {\n",
       "        vertical-align: top;\n",
       "    }\n",
       "\n",
       "    .dataframe thead th {\n",
       "        text-align: right;\n",
       "    }\n",
       "</style>\n",
       "<table border=\"1\" class=\"dataframe\">\n",
       "  <thead>\n",
       "    <tr style=\"text-align: right;\">\n",
       "      <th></th>\n",
       "      <th>X_trainList</th>\n",
       "      <th>Y_train</th>\n",
       "      <th>X_testList</th>\n",
       "      <th>Y_test</th>\n",
       "    </tr>\n",
       "  </thead>\n",
       "  <tbody>\n",
       "    <tr>\n",
       "      <th>0</th>\n",
       "      <td>imgID9-R58C44</td>\n",
       "      <td>0</td>\n",
       "      <td>imgID8-R52C40</td>\n",
       "      <td>0.0</td>\n",
       "    </tr>\n",
       "    <tr>\n",
       "      <th>1</th>\n",
       "      <td>imgIDf3-R59C26</td>\n",
       "      <td>1</td>\n",
       "      <td>imgID7-R45C32</td>\n",
       "      <td>0.0</td>\n",
       "    </tr>\n",
       "    <tr>\n",
       "      <th>2</th>\n",
       "      <td>imgIDc6-R30C43</td>\n",
       "      <td>1</td>\n",
       "      <td>imgIDa3-R35C41</td>\n",
       "      <td>1.0</td>\n",
       "    </tr>\n",
       "    <tr>\n",
       "      <th>3</th>\n",
       "      <td>imgIDd4-R49C53</td>\n",
       "      <td>1</td>\n",
       "      <td>imgID7-R48C53</td>\n",
       "      <td>1.0</td>\n",
       "    </tr>\n",
       "    <tr>\n",
       "      <th>4</th>\n",
       "      <td>imgIDf1-R38C49</td>\n",
       "      <td>1</td>\n",
       "      <td>imgID5-R65C17</td>\n",
       "      <td>0.0</td>\n",
       "    </tr>\n",
       "  </tbody>\n",
       "</table>\n",
       "</div>"
      ],
      "text/plain": [
       "      X_trainList  Y_train      X_testList  Y_test\n",
       "0   imgID9-R58C44        0   imgID8-R52C40     0.0\n",
       "1  imgIDf3-R59C26        1   imgID7-R45C32     0.0\n",
       "2  imgIDc6-R30C43        1  imgIDa3-R35C41     1.0\n",
       "3  imgIDd4-R49C53        1   imgID7-R48C53     1.0\n",
       "4  imgIDf1-R38C49        1   imgID5-R65C17     0.0"
      ]
     },
     "execution_count": 22,
     "metadata": {},
     "output_type": "execute_result"
    }
   ],
   "source": [
    "#Guardamos las listas de los conjuntos de datos ya separados\n",
    "dict1 = {'X_trainList': X_trainList, 'Y_train': Y_train} \n",
    "dict2 = {'X_testList': X_testList,'Y_test': Y_test}\n",
    "dfTrain = pd.DataFrame(dict1)\n",
    "dfTest = pd.DataFrame(dict2)\n",
    "df = pd.concat([dfTrain, dfTest], axis=1) \n",
    "#Guardamos el DataFrame con el data augmentation\n",
    "df.to_csv(\"MuestrasPrueba (2,3,4-11-17)/Recortada/2240x2240/CSV 32x32 Java/ConjuntoTrainTestTODOS.csv\", header=True, index=False)\n",
    "df.head()"
   ]
  },
  {
   "cell_type": "code",
   "execution_count": 23,
   "metadata": {},
   "outputs": [
    {
     "name": "stdout",
     "output_type": "stream",
     "text": [
      "<class 'pandas.core.frame.DataFrame'>\n",
      "RangeIndex: 35212 entries, 0 to 35211\n",
      "Data columns (total 4 columns):\n",
      "X_trainList    35212 non-null object\n",
      "Y_train        35212 non-null int32\n",
      "X_testList     15092 non-null object\n",
      "Y_test         15092 non-null float64\n",
      "dtypes: float64(1), int32(1), object(2)\n",
      "memory usage: 962.9+ KB\n"
     ]
    }
   ],
   "source": [
    "df.info()"
   ]
  },
  {
   "cell_type": "markdown",
   "metadata": {},
   "source": [
    "## Carga de datos para la red"
   ]
  },
  {
   "cell_type": "code",
   "execution_count": 13,
   "metadata": {},
   "outputs": [
    {
     "name": "stdout",
     "output_type": "stream",
     "text": [
      "(35212, 32, 32, 3)\n",
      "(15092, 32, 32, 3)\n"
     ]
    }
   ],
   "source": [
    "#Array con todas las imágenes a entrenar\n",
    "X_train = np.array([np.array(Image.open(\"MuestrasPrueba (2,3,4-11-17)/Recortada/2240x2240/Segmentadas32x32/\"+img + \".jpg\")) for img in X_trainList] )\n",
    "print(X_train.shape)\n",
    "X_test = np.array([np.array(Image.open(\"MuestrasPrueba (2,3,4-11-17)/Recortada/2240x2240/Segmentadas32x32/\"+img + \".jpg\")) for img in X_testList] )\n",
    "print(X_test.shape)"
   ]
  },
  {
   "cell_type": "code",
   "execution_count": 14,
   "metadata": {},
   "outputs": [
    {
     "name": "stdout",
     "output_type": "stream",
     "text": [
      "(35212, 32, 32, 3)\n",
      "(15092, 32, 32, 3)\n"
     ]
    }
   ],
   "source": [
    "#Normalizamos la imagen\n",
    "X_train= X_train / 255.0\n",
    "X_test= X_test / 255.0\n",
    "print(X_train.shape)\n",
    "print(X_test.shape)"
   ]
  },
  {
   "cell_type": "markdown",
   "metadata": {},
   "source": [
    "## Redes Neuronales\n"
   ]
  },
  {
   "cell_type": "code",
   "execution_count": 29,
   "metadata": {},
   "outputs": [],
   "source": [
    "from keras.models                import Sequential, Model\n",
    "from keras.layers                import Dense, Input, Conv2D, MaxPool2D, Flatten, BatchNormalization, Dropout\n",
    "from keras.layers                import Conv2DTranspose, UpSampling2D, MaxPooling2D, Reshape, Activation, ReLU\n",
    "from keras.preprocessing.image   import ImageDataGenerator\n",
    "from keras.utils                 import to_categorical\n",
    "from keras.optimizers            import SGD\n",
    "from keras.callbacks             import ModelCheckpoint, LearningRateScheduler\n",
    "from keras.utils                 import plot_model\n",
    "import pydot\n",
    "from sklearn.metrics             import confusion_matrix"
   ]
  },
  {
   "cell_type": "code",
   "execution_count": 30,
   "metadata": {},
   "outputs": [],
   "source": [
    "def matrixConfusion (conf_mat, cmap, name):\n",
    "    \n",
    "    conf_mat = conf_mat.astype('float') / conf_mat.sum(axis=1)[:, np.newaxis]\n",
    "    fig, ax = plt.subplots()\n",
    "    im = ax.imshow(conf_mat, interpolation='nearest', cmap=cmap)\n",
    "    ax.figure.colorbar(im, ax=ax)\n",
    "    # We want to show all ticks...\n",
    "    ax.set(xticks=np.arange(conf_mat.shape[1]),\n",
    "            yticks=np.arange(conf_mat.shape[0]),\n",
    "            xticklabels=[\"Arena\",\"Plastico\"], yticklabels=[\"Arena\",\"Plastico\"],\n",
    "            title='Confusion matrix, normalizada',\n",
    "            ylabel='True label',\n",
    "            xlabel='Predicted label')\n",
    "    \n",
    "    # Rotate the tick labels and set their alignment.    \n",
    "    plt.setp(ax.get_xticklabels(), rotation=45, ha=\"right\",\n",
    "                 rotation_mode=\"anchor\")\n",
    "\n",
    "    # Loop over data dimensions and create text annotations.\n",
    "    fmt = '.2f'\n",
    "    thresh = conf_mat.max() / 2.\n",
    "    for i in range(conf_mat.shape[0]):\n",
    "        for j in range(conf_mat.shape[1]):\n",
    "            ax.text(j, i, format(conf_mat[i, j], fmt),\n",
    "                    ha=\"center\", va=\"center\",\n",
    "                    color=\"white\" if conf_mat[i, j] > thresh else \"black\")\n",
    "    fig.tight_layout()\n",
    "    plt.savefig(name)\n",
    "    \n",
    "    plt.show()"
   ]
  },
  {
   "cell_type": "markdown",
   "metadata": {},
   "source": [
    "### Prueba A"
   ]
  },
  {
   "cell_type": "code",
   "execution_count": 25,
   "metadata": {},
   "outputs": [],
   "source": [
    "modelA = Sequential()\n",
    "modelA.add(Conv2D(16, (3, 3), input_shape=(32, 32,3)))\n",
    "modelA.add(MaxPooling2D(pool_size=(2, 2))) #Comprimir la info y hacer que sea menos propensa a errores de traslaciones\n",
    "modelA.add(Activation('relu'))\n",
    "\n",
    "modelA.add(Conv2D(64, (3, 3)))\n",
    "modelA.add(MaxPooling2D(pool_size=(2, 2))) #Comprimir la info y hacer que sea menos propensa a errores de traslaciones\n",
    "modelA.add(Activation('relu'))\n",
    "\n",
    "modelA.add(Flatten())  \n",
    "modelA.add(Dense(128, activation='relu'))\n",
    "modelA.add(Dense(64, activation='relu'))\n",
    "modelA.add(Dropout(0.5))\n",
    "modelA.add(Dense(1, activation='sigmoid'))\n",
    "modelA.compile(loss='binary_crossentropy', optimizer='adam', metrics=['accuracy']) "
   ]
  },
  {
   "cell_type": "code",
   "execution_count": 28,
   "metadata": {},
   "outputs": [],
   "source": [
    "plot_model(modelA, to_file='model_A.png', show_shapes=True, show_layer_names=True)"
   ]
  },
  {
   "cell_type": "code",
   "execution_count": 31,
   "metadata": {},
   "outputs": [
    {
     "name": "stdout",
     "output_type": "stream",
     "text": [
      "Train on 35212 samples, validate on 15092 samples\n",
      "Epoch 1/10\n",
      "35212/35212 [==============================] - 256s 7ms/step - loss: 0.2987 - acc: 0.8704 - val_loss: 0.2379 - val_acc: 0.9158\n",
      "\n",
      "Epoch 00001: val_loss improved from inf to 0.23793, saving model to Segmentation32x32RedPesos.hdf5\n",
      "Epoch 2/10\n",
      "35212/35212 [==============================] - 57s 2ms/step - loss: 0.1818 - acc: 0.9373 - val_loss: 0.1595 - val_acc: 0.9424\n",
      "\n",
      "Epoch 00002: val_loss improved from 0.23793 to 0.15951, saving model to Segmentation32x32RedPesos.hdf5\n",
      "Epoch 3/10\n",
      "35212/35212 [==============================] - 55s 2ms/step - loss: 0.1564 - acc: 0.9464 - val_loss: 0.1645 - val_acc: 0.9423\n",
      "\n",
      "Epoch 00003: val_loss did not improve from 0.15951\n",
      "Epoch 4/10\n",
      "35212/35212 [==============================] - 57s 2ms/step - loss: 0.1428 - acc: 0.9519 - val_loss: 0.1786 - val_acc: 0.9378\n",
      "\n",
      "Epoch 00004: val_loss did not improve from 0.15951\n",
      "Epoch 5/10\n",
      "35212/35212 [==============================] - 56s 2ms/step - loss: 0.1338 - acc: 0.9539 - val_loss: 0.1481 - val_acc: 0.9502\n",
      "\n",
      "Epoch 00005: val_loss improved from 0.15951 to 0.14815, saving model to Segmentation32x32RedPesos.hdf5\n",
      "Epoch 6/10\n",
      "35212/35212 [==============================] - 55s 2ms/step - loss: 0.1263 - acc: 0.9578 - val_loss: 0.1409 - val_acc: 0.9497\n",
      "\n",
      "Epoch 00006: val_loss improved from 0.14815 to 0.14086, saving model to Segmentation32x32RedPesos.hdf5\n",
      "Epoch 7/10\n",
      "35212/35212 [==============================] - 55s 2ms/step - loss: 0.1143 - acc: 0.9602 - val_loss: 0.1526 - val_acc: 0.9467\n",
      "\n",
      "Epoch 00007: val_loss did not improve from 0.14086\n",
      "Epoch 8/10\n",
      "35212/35212 [==============================] - 58s 2ms/step - loss: 0.1052 - acc: 0.9645 - val_loss: 0.1509 - val_acc: 0.9497\n",
      "\n",
      "Epoch 00008: val_loss did not improve from 0.14086\n",
      "Epoch 9/10\n",
      "35212/35212 [==============================] - 62s 2ms/step - loss: 0.0932 - acc: 0.9677 - val_loss: 0.1570 - val_acc: 0.9533\n",
      "\n",
      "Epoch 00009: val_loss did not improve from 0.14086\n",
      "Epoch 10/10\n",
      "35212/35212 [==============================] - 62s 2ms/step - loss: 0.0867 - acc: 0.9707 - val_loss: 0.1582 - val_acc: 0.9483\n",
      "\n",
      "Epoch 00010: val_loss did not improve from 0.14086\n"
     ]
    },
    {
     "data": {
      "text/plain": [
       "<keras.callbacks.History at 0x22ac239a940>"
      ]
     },
     "execution_count": 31,
     "metadata": {},
     "output_type": "execute_result"
    }
   ],
   "source": [
    "modelA_checkpoint = ModelCheckpoint('Pesos-ModelA.hdf5', monitor='val_loss',verbose=1, save_best_only=True)\n",
    "modelA.fit(X_train, Y_train,  batch_size=32, validation_data=[X_test, Y_test], epochs=10, callbacks=[modelA_checkpoint])"
   ]
  },
  {
   "cell_type": "code",
   "execution_count": 42,
   "metadata": {},
   "outputs": [
    {
     "name": "stdout",
     "output_type": "stream",
     "text": [
      "[[7092  454]\n",
      " [ 326 7220]]\n"
     ]
    },
    {
     "data": {
      "image/png": "[encoded data removed]",
      "text/plain": [
       "<Figure size 432x288 with 2 Axes>"
      ]
     },
     "metadata": {},
     "output_type": "display_data"
    }
   ],
   "source": [
    "pv =  np.ravel(modelA.predict(X_test))\n",
    "pv_round = np.asarray([int(round(i)) for i in pv])\n",
    "conf_mat = confusion_matrix(Y_test, pv_round)\n",
    "print(conf_mat)\n",
    "matrixConfusion(conf_mat,'Greys',\"MatrizConfusion-ModelA.jpg\")"
   ]
  },
  {
   "cell_type": "markdown",
   "metadata": {},
   "source": [
    "### Prueba B"
   ]
  },
  {
   "cell_type": "code",
   "execution_count": 45,
   "metadata": {},
   "outputs": [],
   "source": [
    "modelB = Sequential()\n",
    "modelB.add(Conv2D(16, (3, 3), input_shape=(32, 32,3)))\n",
    "modelB.add(MaxPooling2D(pool_size=(2, 2))) #Comprimir la info y hacer que sea menos propensa a errores de traslaciones\n",
    "modelB.add(Activation('relu'))\n",
    "\n",
    "modelB.add(Conv2D(64, (3, 3)))\n",
    "modelB.add(MaxPooling2D(pool_size=(2, 2))) #Comprimir la info y hacer que sea menos propensa a errores de traslaciones\n",
    "modelB.add(Activation('relu'))\n",
    "\n",
    "modelB.add(Flatten())  \n",
    "modelB.add(Dense(128, activation='relu'))\n",
    "modelB.add(Dropout(0.3))\n",
    "modelB.add(Dense(64, activation='relu'))\n",
    "modelB.add(Dropout(0.3))\n",
    "modelB.add(Dense(32, activation='relu'))\n",
    "modelB.add(Dropout(0.3))\n",
    "modelB.add(Dense(1, activation='sigmoid'))\n",
    "modelB.compile(loss='binary_crossentropy', optimizer='adam', metrics=['accuracy']) "
   ]
  },
  {
   "cell_type": "code",
   "execution_count": 46,
   "metadata": {},
   "outputs": [],
   "source": [
    "plot_model(modelB, to_file='model_B.png', show_shapes=True, show_layer_names=True)\n",
    "modelB_checkpoint = ModelCheckpoint('Pesos-ModelB.hdf5', monitor='val_loss',verbose=1, save_best_only=True)"
   ]
  },
  {
   "cell_type": "code",
   "execution_count": 47,
   "metadata": {},
   "outputs": [
    {
     "name": "stdout",
     "output_type": "stream",
     "text": [
      "Train on 35212 samples, validate on 15092 samples\n",
      "Epoch 1/10\n",
      "35212/35212 [==============================] - 56s 2ms/step - loss: 0.3209 - acc: 0.8569 - val_loss: 0.2048 - val_acc: 0.9258\n",
      "\n",
      "Epoch 00001: val_loss improved from inf to 0.20477, saving model to Pesos-ModelB.hdf5\n",
      "Epoch 2/10\n",
      "35212/35212 [==============================] - 58s 2ms/step - loss: 0.1888 - acc: 0.9326 - val_loss: 0.2260 - val_acc: 0.9225\n",
      "\n",
      "Epoch 00002: val_loss did not improve from 0.20477\n",
      "Epoch 3/10\n",
      "35212/35212 [==============================] - 52s 1ms/step - loss: 0.1651 - acc: 0.9418 - val_loss: 0.1579 - val_acc: 0.9455\n",
      "\n",
      "Epoch 00003: val_loss improved from 0.20477 to 0.15794, saving model to Pesos-ModelB.hdf5\n",
      "Epoch 4/10\n",
      "35212/35212 [==============================] - 55s 2ms/step - loss: 0.1476 - acc: 0.9504 - val_loss: 0.2861 - val_acc: 0.9197\n",
      "\n",
      "Epoch 00004: val_loss did not improve from 0.15794\n",
      "Epoch 5/10\n",
      "35212/35212 [==============================] - 55s 2ms/step - loss: 0.1364 - acc: 0.9539 - val_loss: 0.1563 - val_acc: 0.9449\n",
      "\n",
      "Epoch 00005: val_loss improved from 0.15794 to 0.15629, saving model to Pesos-ModelB.hdf5\n",
      "Epoch 6/10\n",
      "35212/35212 [==============================] - 57s 2ms/step - loss: 0.1250 - acc: 0.9580 - val_loss: 0.1436 - val_acc: 0.9514\n",
      "\n",
      "Epoch 00006: val_loss improved from 0.15629 to 0.14357, saving model to Pesos-ModelB.hdf5\n",
      "Epoch 7/10\n",
      "35212/35212 [==============================] - 53s 2ms/step - loss: 0.1198 - acc: 0.9604 - val_loss: 0.1436 - val_acc: 0.9502\n",
      "\n",
      "Epoch 00007: val_loss improved from 0.14357 to 0.14357, saving model to Pesos-ModelB.hdf5\n",
      "Epoch 8/10\n",
      "35212/35212 [==============================] - 54s 2ms/step - loss: 0.1074 - acc: 0.9641 - val_loss: 0.1541 - val_acc: 0.9486\n",
      "\n",
      "Epoch 00008: val_loss did not improve from 0.14357\n",
      "Epoch 9/10\n",
      "35212/35212 [==============================] - 53s 1ms/step - loss: 0.1033 - acc: 0.9648 - val_loss: 0.1484 - val_acc: 0.9510\n",
      "\n",
      "Epoch 00009: val_loss did not improve from 0.14357\n",
      "Epoch 10/10\n",
      "35212/35212 [==============================] - 53s 2ms/step - loss: 0.0923 - acc: 0.9688 - val_loss: 0.1749 - val_acc: 0.9453\n",
      "\n",
      "Epoch 00010: val_loss did not improve from 0.14357\n"
     ]
    }
   ],
   "source": [
    "historyB = modelB.fit(X_train, Y_train,  batch_size=32, validation_data=[X_test, Y_test], epochs=10, callbacks=[modelB_checkpoint])"
   ]
  },
  {
   "cell_type": "code",
   "execution_count": 48,
   "metadata": {},
   "outputs": [
    {
     "data": {
      "image/png": "[encoded data removed]",
      "text/plain": [
       "<Figure size 432x288 with 2 Axes>"
      ]
     },
     "metadata": {},
     "output_type": "display_data"
    }
   ],
   "source": [
    "pv =  np.ravel(modelB.predict(X_test))\n",
    "pv_round = np.asarray([int(round(i)) for i in pv])\n",
    "conf_mat = confusion_matrix(Y_test, pv_round)\n",
    "matrixConfusion(conf_mat,'Greys',\"MatrizConfusion-ModelB.jpg\")"
   ]
  },
  {
   "cell_type": "markdown",
   "metadata": {},
   "source": [
    "### Prueba C\n"
   ]
  },
  {
   "cell_type": "code",
   "execution_count": 49,
   "metadata": {},
   "outputs": [],
   "source": [
    "modelC = Sequential()\n",
    "modelC.add(Conv2D(16, (3, 3), input_shape=(32, 32,3)))\n",
    "modelC.add(MaxPooling2D(pool_size=(2, 2))) #Comprimir la info y hacer que sea menos propensa a errores de traslaciones\n",
    "modelC.add(Activation('relu'))\n",
    "\n",
    "modelC.add(Conv2D(64, (3, 3)))\n",
    "modelC.add(MaxPooling2D(pool_size=(2, 2))) #Comprimir la info y hacer que sea menos propensa a errores de traslaciones\n",
    "modelC.add(Activation('relu'))\n",
    "\n",
    "modelC.add(Conv2D(128, (3, 3)))\n",
    "modelC.add(MaxPooling2D(pool_size=(2, 2))) #Comprimir la info y hacer que sea menos propensa a errores de traslaciones\n",
    "modelC.add(Activation('relu'))\n",
    "\n",
    "modelC.add(Flatten())  \n",
    "modelC.add(Dense(128, activation='relu'))\n",
    "modelC.add(Dropout(0.3))\n",
    "modelC.add(Dense(64, activation='relu'))\n",
    "modelC.add(Dropout(0.3))\n",
    "modelC.add(Dense(1, activation='sigmoid'))\n",
    "modelC.compile(loss='binary_crossentropy', optimizer='adam', metrics=['accuracy']) "
   ]
  },
  {
   "cell_type": "code",
   "execution_count": 50,
   "metadata": {},
   "outputs": [],
   "source": [
    "plot_model(modelC, to_file='model_C.png', show_shapes=True, show_layer_names=True)\n",
    "modelC_checkpoint = ModelCheckpoint('Pesos-ModelC.hdf5', monitor='val_loss',verbose=1, save_best_only=True)"
   ]
  },
  {
   "cell_type": "code",
   "execution_count": 51,
   "metadata": {},
   "outputs": [
    {
     "name": "stdout",
     "output_type": "stream",
     "text": [
      "Train on 35212 samples, validate on 15092 samples\n",
      "Epoch 1/10\n",
      "35212/35212 [==============================] - 60s 2ms/step - loss: 0.2878 - acc: 0.8746 - val_loss: 0.1795 - val_acc: 0.9368\n",
      "\n",
      "Epoch 00001: val_loss improved from inf to 0.17955, saving model to Pesos-ModelC.hdf5\n",
      "Epoch 2/10\n",
      "35212/35212 [==============================] - 62s 2ms/step - loss: 0.1785 - acc: 0.9370 - val_loss: 0.3057 - val_acc: 0.8886\n",
      "\n",
      "Epoch 00002: val_loss did not improve from 0.17955\n",
      "Epoch 3/10\n",
      "35212/35212 [==============================] - 60s 2ms/step - loss: 0.1612 - acc: 0.9439 - val_loss: 0.1496 - val_acc: 0.9475\n",
      "\n",
      "Epoch 00003: val_loss improved from 0.17955 to 0.14961, saving model to Pesos-ModelC.hdf5\n",
      "Epoch 4/10\n",
      "35212/35212 [==============================] - 72s 2ms/step - loss: 0.1475 - acc: 0.9490 - val_loss: 0.1818 - val_acc: 0.9327\n",
      "\n",
      "Epoch 00004: val_loss did not improve from 0.14961\n",
      "Epoch 5/10\n",
      "35212/35212 [==============================] - 65s 2ms/step - loss: 0.1378 - acc: 0.9533 - val_loss: 0.1362 - val_acc: 0.9527\n",
      "\n",
      "Epoch 00005: val_loss improved from 0.14961 to 0.13619, saving model to Pesos-ModelC.hdf5\n",
      "Epoch 6/10\n",
      "35212/35212 [==============================] - 67s 2ms/step - loss: 0.1284 - acc: 0.9573 - val_loss: 0.1464 - val_acc: 0.9463\n",
      "\n",
      "Epoch 00006: val_loss did not improve from 0.13619\n",
      "Epoch 7/10\n",
      "35212/35212 [==============================] - 69s 2ms/step - loss: 0.1235 - acc: 0.9575 - val_loss: 0.1817 - val_acc: 0.9342\n",
      "\n",
      "Epoch 00007: val_loss did not improve from 0.13619\n",
      "Epoch 8/10\n",
      "35212/35212 [==============================] - 65s 2ms/step - loss: 0.1148 - acc: 0.9608 - val_loss: 0.1374 - val_acc: 0.9539150 - acc: 0.9\n",
      "\n",
      "Epoch 00008: val_loss did not improve from 0.13619\n",
      "Epoch 9/10\n",
      "35212/35212 [==============================] - 59s 2ms/step - loss: 0.1087 - acc: 0.9627 - val_loss: 0.1682 - val_acc: 0.9459\n",
      "\n",
      "Epoch 00009: val_loss did not improve from 0.13619\n",
      "Epoch 10/10\n",
      "35212/35212 [==============================] - 61s 2ms/step - loss: 0.1042 - acc: 0.9645 - val_loss: 0.1489 - val_acc: 0.9502\n",
      "\n",
      "Epoch 00010: val_loss did not improve from 0.13619\n"
     ]
    }
   ],
   "source": [
    "historyC = modelC.fit(X_train, Y_train,  batch_size=32, validation_data=[X_test, Y_test], epochs=10, callbacks=[modelC_checkpoint])"
   ]
  },
  {
   "cell_type": "code",
   "execution_count": 52,
   "metadata": {},
   "outputs": [
    {
     "data": {
      "image/png": "[encoded data removed]",
      "text/plain": [
       "<Figure size 432x288 with 2 Axes>"
      ]
     },
     "metadata": {},
     "output_type": "display_data"
    }
   ],
   "source": [
    "pv =  np.ravel(modelC.predict(X_test))\n",
    "pv_round = np.asarray([int(round(i)) for i in pv])\n",
    "conf_mat = confusion_matrix(Y_test, pv_round)\n",
    "matrixConfusion(conf_mat,'Greys',\"MatrizConfusion-ModelC.jpg\")"
   ]
  },
  {
   "cell_type": "markdown",
   "metadata": {},
   "source": [
    "### Prueba D"
   ]
  },
  {
   "cell_type": "code",
   "execution_count": 53,
   "metadata": {},
   "outputs": [],
   "source": [
    "modelD = Sequential()\n",
    "modelD.add(Conv2D(16, (3, 3), input_shape=(32, 32,3)))\n",
    "modelD.add(MaxPooling2D(pool_size=(2, 2))) #Comprimir la info y hacer que sea menos propensa a errores de traslaciones\n",
    "modelD.add(Activation('relu'))\n",
    "\n",
    "modelD.add(Flatten())  \n",
    "modelD.add(Dense(64, activation='relu'))\n",
    "modelD.add(Dropout(0.3))\n",
    "modelD.add(Dense(1, activation='sigmoid'))\n",
    "modelD.compile(loss='binary_crossentropy', optimizer='adam', metrics=['accuracy']) \n",
    "\n",
    "plot_model(modelD, to_file='model_D.png', show_shapes=True, show_layer_names=True)\n",
    "modelD_checkpoint = ModelCheckpoint('Pesos-ModelD.hdf5', monitor='val_loss',verbose=1, save_best_only=True)"
   ]
  },
  {
   "cell_type": "code",
   "execution_count": 54,
   "metadata": {},
   "outputs": [
    {
     "name": "stdout",
     "output_type": "stream",
     "text": [
      "Train on 35212 samples, validate on 15092 samples\n",
      "Epoch 1/10\n",
      "35212/35212 [==============================] - 35s 998us/step - loss: 0.3925 - acc: 0.8155 - val_loss: 0.2853 - val_acc: 0.8765\n",
      "\n",
      "Epoch 00001: val_loss improved from inf to 0.28531, saving model to Pesos-ModelD.hdf5\n",
      "Epoch 2/10\n",
      "35212/35212 [==============================] - 56s 2ms/step - loss: 0.2669 - acc: 0.8963 - val_loss: 0.2439 - val_acc: 0.9113\n",
      "\n",
      "Epoch 00002: val_loss improved from 0.28531 to 0.24388, saving model to Pesos-ModelD.hdf5\n",
      "Epoch 3/10\n",
      "35212/35212 [==============================] - 34s 976us/step - loss: 0.2423 - acc: 0.9084 - val_loss: 0.2329 - val_acc: 0.9087\n",
      "\n",
      "Epoch 00003: val_loss improved from 0.24388 to 0.23293, saving model to Pesos-ModelD.hdf5\n",
      "Epoch 4/10\n",
      "35212/35212 [==============================] - 34s 969us/step - loss: 0.2284 - acc: 0.9157 - val_loss: 0.2243 - val_acc: 0.9190\n",
      "\n",
      "Epoch 00004: val_loss improved from 0.23293 to 0.22434, saving model to Pesos-ModelD.hdf5\n",
      "Epoch 5/10\n",
      "35212/35212 [==============================] - 35s 1ms/step - loss: 0.2184 - acc: 0.9195 - val_loss: 0.2235 - val_acc: 0.9182\n",
      "\n",
      "Epoch 00005: val_loss improved from 0.22434 to 0.22349, saving model to Pesos-ModelD.hdf5\n",
      "Epoch 6/10\n",
      "35212/35212 [==============================] - 36s 1ms/step - loss: 0.2089 - acc: 0.9243 - val_loss: 0.2963 - val_acc: 0.8849\n",
      "\n",
      "Epoch 00006: val_loss did not improve from 0.22349\n",
      "Epoch 7/10\n",
      "35212/35212 [==============================] - 37s 1ms/step - loss: 0.1930 - acc: 0.9291 - val_loss: 0.2180 - val_acc: 0.9186\n",
      "\n",
      "Epoch 00007: val_loss improved from 0.22349 to 0.21799, saving model to Pesos-ModelD.hdf5\n",
      "Epoch 8/10\n",
      "35212/35212 [==============================] - 41s 1ms/step - loss: 0.1852 - acc: 0.9342 - val_loss: 0.2224 - val_acc: 0.9191\n",
      "\n",
      "Epoch 00008: val_loss did not improve from 0.21799\n",
      "Epoch 9/10\n",
      "35212/35212 [==============================] - 37s 1ms/step - loss: 0.1751 - acc: 0.9363 - val_loss: 0.2081 - val_acc: 0.9251\n",
      "\n",
      "Epoch 00009: val_loss improved from 0.21799 to 0.20807, saving model to Pesos-ModelD.hdf5\n",
      "Epoch 10/10\n",
      "35212/35212 [==============================] - 39s 1ms/step - loss: 0.1624 - acc: 0.9432 - val_loss: 0.2033 - val_acc: 0.9266\n",
      "\n",
      "Epoch 00010: val_loss improved from 0.20807 to 0.20333, saving model to Pesos-ModelD.hdf5\n"
     ]
    }
   ],
   "source": [
    "historyD = modelD.fit(X_train, Y_train,  batch_size=32, validation_data=[X_test, Y_test], epochs=10, callbacks=[modelD_checkpoint])"
   ]
  },
  {
   "cell_type": "code",
   "execution_count": 55,
   "metadata": {},
   "outputs": [
    {
     "data": {
      "image/png": "[encoded data removed]",
      "text/plain": [
       "<Figure size 432x288 with 2 Axes>"
      ]
     },
     "metadata": {},
     "output_type": "display_data"
    }
   ],
   "source": [
    "pv =  np.ravel(modelD.predict(X_test))\n",
    "pv_round = np.asarray([int(round(i)) for i in pv])\n",
    "conf_mat = confusion_matrix(Y_test, pv_round)\n",
    "matrixConfusion(conf_mat,'Greys',\"MatrizConfusion-ModelD.jpg\")"
   ]
  },
  {
   "cell_type": "markdown",
   "metadata": {},
   "source": [
    "### Prueba E"
   ]
  },
  {
   "cell_type": "code",
   "execution_count": 1,
   "metadata": {},
   "outputs": [
    {
     "ename": "NameError",
     "evalue": "name 'Sequential' is not defined",
     "output_type": "error",
     "traceback": [
      "\u001b[1;31m---------------------------------------------------------------------------\u001b[0m",
      "\u001b[1;31mNameError\u001b[0m                                 Traceback (most recent call last)",
      "\u001b[1;32m<ipython-input-1-4ebd14f98dac>\u001b[0m in \u001b[0;36m<module>\u001b[1;34m()\u001b[0m\n\u001b[1;32m----> 1\u001b[1;33m \u001b[0mmodelE\u001b[0m \u001b[1;33m=\u001b[0m \u001b[0mSequential\u001b[0m\u001b[1;33m(\u001b[0m\u001b[1;33m)\u001b[0m\u001b[1;33m\u001b[0m\u001b[0m\n\u001b[0m\u001b[0;32m      2\u001b[0m \u001b[0mmodelE\u001b[0m\u001b[1;33m.\u001b[0m\u001b[0madd\u001b[0m\u001b[1;33m(\u001b[0m\u001b[0mConv2D\u001b[0m\u001b[1;33m(\u001b[0m\u001b[1;36m16\u001b[0m\u001b[1;33m,\u001b[0m \u001b[1;33m(\u001b[0m\u001b[1;36m3\u001b[0m\u001b[1;33m,\u001b[0m \u001b[1;36m3\u001b[0m\u001b[1;33m)\u001b[0m\u001b[1;33m,\u001b[0m \u001b[0minput_shape\u001b[0m\u001b[1;33m=\u001b[0m\u001b[1;33m(\u001b[0m\u001b[1;36m32\u001b[0m\u001b[1;33m,\u001b[0m \u001b[1;36m32\u001b[0m\u001b[1;33m,\u001b[0m\u001b[1;36m3\u001b[0m\u001b[1;33m)\u001b[0m\u001b[1;33m)\u001b[0m\u001b[1;33m)\u001b[0m\u001b[1;33m\u001b[0m\u001b[0m\n\u001b[0;32m      3\u001b[0m \u001b[0mmodelE\u001b[0m\u001b[1;33m.\u001b[0m\u001b[0madd\u001b[0m\u001b[1;33m(\u001b[0m\u001b[0mMaxPooling2D\u001b[0m\u001b[1;33m(\u001b[0m\u001b[0mpool_size\u001b[0m\u001b[1;33m=\u001b[0m\u001b[1;33m(\u001b[0m\u001b[1;36m2\u001b[0m\u001b[1;33m,\u001b[0m \u001b[1;36m2\u001b[0m\u001b[1;33m)\u001b[0m\u001b[1;33m)\u001b[0m\u001b[1;33m)\u001b[0m \u001b[1;31m#Comprimir la info y hacer que sea menos propensa a errores de traslaciones\u001b[0m\u001b[1;33m\u001b[0m\u001b[0m\n\u001b[0;32m      4\u001b[0m \u001b[0mmodelE\u001b[0m\u001b[1;33m.\u001b[0m\u001b[0madd\u001b[0m\u001b[1;33m(\u001b[0m\u001b[0mActivation\u001b[0m\u001b[1;33m(\u001b[0m\u001b[1;34m'relu'\u001b[0m\u001b[1;33m)\u001b[0m\u001b[1;33m)\u001b[0m\u001b[1;33m\u001b[0m\u001b[0m\n\u001b[0;32m      5\u001b[0m \u001b[1;33m\u001b[0m\u001b[0m\n",
      "\u001b[1;31mNameError\u001b[0m: name 'Sequential' is not defined"
     ]
    }
   ],
   "source": [
    "modelE = Sequential()\n",
    "modelE.add(Conv2D(16, (3, 3), input_shape=(32, 32,3)))\n",
    "modelE.add(MaxPooling2D(pool_size=(2, 2))) #Comprimir la info y hacer que sea menos propensa a errores de traslaciones\n",
    "modelE.add(Activation('relu'))\n",
    "\n",
    "modelE.add(Conv2D(32, (3, 3)))\n",
    "modelE.add(MaxPooling2D(pool_size=(2, 2))) #Comprimir la info y hacer que sea menos propensa a errores de traslaciones\n",
    "modelE.add(Activation('relu'))\n",
    "\n",
    "modelE.add(Conv2D(64, (3, 3)))\n",
    "modelE.add(MaxPooling2D(pool_size=(2, 2))) #Comprimir la info y hacer que sea menos propensa a errores de traslaciones\n",
    "modelE.add(Activation('relu'))\n",
    "\n",
    "modelE.add(Flatten())\n",
    "modelE.add(Dense(64, activation='relu'))\n",
    "modelE.add(Dropout(0.3))\n",
    "modelE.add(Dense(32, activation='relu'))\n",
    "modelE.add(Dropout(0.3))\n",
    "modelE.add(Dense(1, activation='sigmoid'))\n",
    "modelE.compile(loss='binary_crossentropy', optimizer='adam', metrics=['accuracy']) \n",
    "\n",
    "plot_model(modelE, to_file='model_E.png', show_shapes=True, show_layer_names=True)\n",
    "modelE_checkpoint = ModelCheckpoint('Pesos-ModelE.hdf5', monitor='val_loss',verbose=1, save_best_only=True)"
   ]
  },
  {
   "cell_type": "code",
   "execution_count": 58,
   "metadata": {},
   "outputs": [
    {
     "name": "stdout",
     "output_type": "stream",
     "text": [
      "Train on 35212 samples, validate on 15092 samples\n",
      "Epoch 1/10\n",
      "35212/35212 [==============================] - 77s 2ms/step - loss: 0.3223 - acc: 0.8538 - val_loss: 0.2335 - val_acc: 0.9206\n",
      "\n",
      "Epoch 00001: val_loss improved from inf to 0.23349, saving model to Pesos-ModelE.hdf5\n",
      "Epoch 2/10\n",
      "35212/35212 [==============================] - 49s 1ms/step - loss: 0.2013 - acc: 0.9282 - val_loss: 0.1840 - val_acc: 0.9341\n",
      "\n",
      "Epoch 00002: val_loss improved from 0.23349 to 0.18399, saving model to Pesos-ModelE.hdf5\n",
      "Epoch 3/10\n",
      "35212/35212 [==============================] - 49s 1ms/step - loss: 0.1811 - acc: 0.9358 - val_loss: 0.1946 - val_acc: 0.9291\n",
      "\n",
      "Epoch 00003: val_loss did not improve from 0.18399\n",
      "Epoch 4/10\n",
      "35212/35212 [==============================] - 49s 1ms/step - loss: 0.1682 - acc: 0.9412 - val_loss: 0.1658 - val_acc: 0.9398\n",
      "\n",
      "Epoch 00004: val_loss improved from 0.18399 to 0.16583, saving model to Pesos-ModelE.hdf5\n",
      "Epoch 5/10\n",
      "35212/35212 [==============================] - 47s 1ms/step - loss: 0.1583 - acc: 0.9436 - val_loss: 0.1537 - val_acc: 0.9445\n",
      "\n",
      "Epoch 00005: val_loss improved from 0.16583 to 0.15372, saving model to Pesos-ModelE.hdf5\n",
      "Epoch 6/10\n",
      "35212/35212 [==============================] - 47s 1ms/step - loss: 0.1488 - acc: 0.9480 - val_loss: 0.1457 - val_acc: 0.9480\n",
      "\n",
      "Epoch 00006: val_loss improved from 0.15372 to 0.14570, saving model to Pesos-ModelE.hdf5\n",
      "Epoch 7/10\n",
      "35212/35212 [==============================] - 51s 1ms/step - loss: 0.1395 - acc: 0.9505 - val_loss: 0.1470 - val_acc: 0.9486s: 0.\n",
      "\n",
      "Epoch 00007: val_loss did not improve from 0.14570\n",
      "Epoch 8/10\n",
      "35212/35212 [==============================] - 52s 1ms/step - loss: 0.1370 - acc: 0.9518 - val_loss: 0.1446 - val_acc: 0.9505\n",
      "\n",
      "Epoch 00008: val_loss improved from 0.14570 to 0.14464, saving model to Pesos-ModelE.hdf5\n",
      "Epoch 9/10\n",
      "35212/35212 [==============================] - 52s 1ms/step - loss: 0.1302 - acc: 0.9547 - val_loss: 0.1474 - val_acc: 0.9481\n",
      "\n",
      "Epoch 00009: val_loss did not improve from 0.14464\n",
      "Epoch 10/10\n",
      "35212/35212 [==============================] - 52s 1ms/step - loss: 0.1268 - acc: 0.9571 - val_loss: 0.1476 - val_acc: 0.9504\n",
      "\n",
      "Epoch 00010: val_loss did not improve from 0.14464\n"
     ]
    }
   ],
   "source": [
    "historyE = modelE.fit(X_train, Y_train,  batch_size=32, validation_data=[X_test, Y_test], epochs=10, callbacks=[modelE_checkpoint])"
   ]
  },
  {
   "cell_type": "code",
   "execution_count": 59,
   "metadata": {},
   "outputs": [
    {
     "data": {
      "image/png": "[encoded data removed]",
      "text/plain": [
       "<Figure size 432x288 with 2 Axes>"
      ]
     },
     "metadata": {},
     "output_type": "display_data"
    }
   ],
   "source": [
    "pv =  np.ravel(modelE.predict(X_test))\n",
    "pv_round = np.asarray([int(round(i)) for i in pv])\n",
    "conf_mat = confusion_matrix(Y_test, pv_round)\n",
    "matrixConfusion(conf_mat,'Greys',\"MatrizConfusion-ModelE.jpg\")"
   ]
  },
  {
   "cell_type": "markdown",
   "metadata": {},
   "source": [
    "### Prueba F"
   ]
  },
  {
   "cell_type": "code",
   "execution_count": 66,
   "metadata": {},
   "outputs": [],
   "source": [
    "modelF = Sequential()\n",
    "modelF.add(Conv2D(16, (3, 3), input_shape=(32, 32,3)))\n",
    "modelF.add(MaxPooling2D(pool_size=(2, 2))) #Comprimir la info y hacer que sea menos propensa a errores de traslaciones\n",
    "modelF.add(Activation('relu'))\n",
    "\n",
    "modelF.add(Conv2D(32, (3, 3)))\n",
    "modelF.add(MaxPooling2D(pool_size=(2, 2))) #Comprimir la info y hacer que sea menos propensa a errores de traslaciones\n",
    "modelF.add(Activation('relu'))\n",
    "\n",
    "modelF.add(Conv2D(64, (3, 3)))\n",
    "modelF.add(MaxPooling2D(pool_size=(2, 2))) #Comprimir la info y hacer que sea menos propensa a errores de traslaciones\n",
    "modelF.add(Activation('relu'))\n",
    "\n",
    "modelF.add(Flatten())  \n",
    "modelF.add(Dense(64, activation='relu'))\n",
    "modelF.add(Dropout(0.3))\n",
    "modelF.add(Dense(32, activation='relu'))\n",
    "modelC.add(Dropout(0.3))\n",
    "modelF.add(Dense(1, activation='sigmoid'))\n",
    "modelF.compile(loss='binary_crossentropy', optimizer='adam', metrics=['accuracy']) \n",
    "\n",
    "plot_model(modelF, to_file='model_F.png', show_shapes=True, show_layer_names=True)\n",
    "modelF_checkpoint = ModelCheckpoint('Pesos-ModelF.hdf5', monitor='val_loss',verbose=1, save_best_only=True)"
   ]
  },
  {
   "cell_type": "code",
   "execution_count": 67,
   "metadata": {},
   "outputs": [
    {
     "name": "stdout",
     "output_type": "stream",
     "text": [
      "Train on 35212 samples, validate on 15092 samples\n",
      "Epoch 1/10\n",
      "35212/35212 [==============================] - 48s 1ms/step - loss: 0.3100 - acc: 0.8648 - val_loss: 0.1857 - val_acc: 0.9331\n",
      "\n",
      "Epoch 00001: val_loss improved from inf to 0.18570, saving model to Pesos-ModelF.hdf5\n",
      "Epoch 2/10\n",
      "35212/35212 [==============================] - 46s 1ms/step - loss: 0.1854 - acc: 0.9340 - val_loss: 0.1731 - val_acc: 0.9333\n",
      "\n",
      "Epoch 00002: val_loss improved from 0.18570 to 0.17306, saving model to Pesos-ModelF.hdf5\n",
      "Epoch 3/10\n",
      "35212/35212 [==============================] - 48s 1ms/step - loss: 0.1635 - acc: 0.9421 - val_loss: 0.1509 - val_acc: 0.9487\n",
      "\n",
      "Epoch 00003: val_loss improved from 0.17306 to 0.15092, saving model to Pesos-ModelF.hdf5\n",
      "Epoch 4/10\n",
      "35212/35212 [==============================] - 46s 1ms/step - loss: 0.1553 - acc: 0.9459 - val_loss: 0.1522 - val_acc: 0.9471\n",
      "\n",
      "Epoch 00004: val_loss did not improve from 0.15092\n",
      "Epoch 5/10\n",
      "35212/35212 [==============================] - 45s 1ms/step - loss: 0.1441 - acc: 0.9490 - val_loss: 0.1476 - val_acc: 0.9496\n",
      "\n",
      "Epoch 00005: val_loss improved from 0.15092 to 0.14761, saving model to Pesos-ModelF.hdf5\n",
      "Epoch 6/10\n",
      "35212/35212 [==============================] - 50s 1ms/step - loss: 0.1391 - acc: 0.9521 - val_loss: 0.1443 - val_acc: 0.9493\n",
      "\n",
      "Epoch 00006: val_loss improved from 0.14761 to 0.14432, saving model to Pesos-ModelF.hdf5\n",
      "Epoch 7/10\n",
      "35212/35212 [==============================] - 49s 1ms/step - loss: 0.1356 - acc: 0.9527 - val_loss: 0.1506 - val_acc: 0.9486\n",
      "\n",
      "Epoch 00007: val_loss did not improve from 0.14432\n",
      "Epoch 8/10\n",
      "35212/35212 [==============================] - 46s 1ms/step - loss: 0.1318 - acc: 0.9542 - val_loss: 0.1389 - val_acc: 0.9528\n",
      "\n",
      "Epoch 00008: val_loss improved from 0.14432 to 0.13892, saving model to Pesos-ModelF.hdf5\n",
      "Epoch 9/10\n",
      "35212/35212 [==============================] - 44s 1ms/step - loss: 0.1256 - acc: 0.9565 - val_loss: 0.1358 - val_acc: 0.9532\n",
      "\n",
      "Epoch 00009: val_loss improved from 0.13892 to 0.13583, saving model to Pesos-ModelF.hdf5\n",
      "Epoch 10/10\n",
      "35212/35212 [==============================] - 45s 1ms/step - loss: 0.1216 - acc: 0.9573 - val_loss: 0.1395 - val_acc: 0.9524\n",
      "\n",
      "Epoch 00010: val_loss did not improve from 0.13583\n"
     ]
    }
   ],
   "source": [
    "historyF = modelF.fit(X_train, Y_train,  batch_size=32, validation_data=[X_test, Y_test], epochs=10, callbacks=[modelF_checkpoint])"
   ]
  },
  {
   "cell_type": "code",
   "execution_count": 68,
   "metadata": {},
   "outputs": [
    {
     "data": {
      "image/png": "[encoded data removed]",
      "text/plain": [
       "<Figure size 432x288 with 2 Axes>"
      ]
     },
     "metadata": {},
     "output_type": "display_data"
    }
   ],
   "source": [
    "pv =  np.ravel(modelF.predict(X_test))\n",
    "pv_round = np.asarray([int(round(i)) for i in pv])\n",
    "conf_mat = confusion_matrix(Y_test, pv_round)\n",
    "matrixConfusion(conf_mat,'Greys',\"MatrizConfusion-ModelF.jpg\")"
   ]
  },
  {
   "cell_type": "markdown",
   "metadata": {},
   "source": [
    "### Prueba G"
   ]
  },
  {
   "cell_type": "code",
   "execution_count": 63,
   "metadata": {},
   "outputs": [],
   "source": [
    "modelG = Sequential()\n",
    "modelG.add(Conv2D(16, (3, 3), input_shape=(32, 32,3)))\n",
    "modelG.add(MaxPooling2D(pool_size=(2, 2))) #Comprimir la info y hacer que sea menos propensa a errores de traslaciones\n",
    "modelG.add(Activation('relu'))\n",
    "\n",
    "modelG.add(Conv2D(32, (3, 3)))\n",
    "modelG.add(MaxPooling2D(pool_size=(2, 2))) #Comprimir la info y hacer que sea menos propensa a errores de traslaciones\n",
    "modelG.add(Activation('relu'))\n",
    "\n",
    "modelG.add(Flatten())  \n",
    "modelG.add(Dense(64, activation='relu'))\n",
    "modelG.add(Dropout(0.3))\n",
    "modelG.add(Dense(1, activation='sigmoid'))\n",
    "modelG.compile(loss='binary_crossentropy', optimizer='adam', metrics=['accuracy']) \n",
    "\n",
    "plot_model(modelG, to_file='model_G.png', show_shapes=True, show_layer_names=True)\n",
    "modelG_checkpoint = ModelCheckpoint('Pesos-ModelG.hdf5', monitor='val_loss',verbose=1, save_best_only=True)"
   ]
  },
  {
   "cell_type": "code",
   "execution_count": 64,
   "metadata": {},
   "outputs": [
    {
     "name": "stdout",
     "output_type": "stream",
     "text": [
      "Train on 35212 samples, validate on 15092 samples\n",
      "Epoch 1/10\n",
      "35212/35212 [==============================] - 51s 1ms/step - loss: 0.3398 - acc: 0.8476 - val_loss: 0.2286 - val_acc: 0.9176\n",
      "\n",
      "Epoch 00001: val_loss improved from inf to 0.22864, saving model to Pesos-ModelG.hdf5\n",
      "Epoch 2/10\n",
      "35212/35212 [==============================] - 51s 1ms/step - loss: 0.2132 - acc: 0.9232 - val_loss: 0.1976 - val_acc: 0.9239\n",
      "\n",
      "Epoch 00002: val_loss improved from 0.22864 to 0.19758, saving model to Pesos-ModelG.hdf5\n",
      "Epoch 3/10\n",
      "35212/35212 [==============================] - 51s 1ms/step - loss: 0.1830 - acc: 0.9339 - val_loss: 0.1888 - val_acc: 0.9259\n",
      "\n",
      "Epoch 00003: val_loss improved from 0.19758 to 0.18879, saving model to Pesos-ModelG.hdf5\n",
      "Epoch 4/10\n",
      "35212/35212 [==============================] - 52s 1ms/step - loss: 0.1662 - acc: 0.9413 - val_loss: 0.1581 - val_acc: 0.9437\n",
      "\n",
      "Epoch 00004: val_loss improved from 0.18879 to 0.15808, saving model to Pesos-ModelG.hdf5\n",
      "Epoch 5/10\n",
      "35212/35212 [==============================] - 50s 1ms/step - loss: 0.1543 - acc: 0.9468 - val_loss: 0.1507 - val_acc: 0.9467\n",
      "\n",
      "Epoch 00005: val_loss improved from 0.15808 to 0.15067, saving model to Pesos-ModelG.hdf5\n",
      "Epoch 6/10\n",
      "35212/35212 [==============================] - 52s 1ms/step - loss: 0.1439 - acc: 0.9504 - val_loss: 0.1611 - val_acc: 0.9421\n",
      "\n",
      "Epoch 00006: val_loss did not improve from 0.15067\n",
      "Epoch 7/10\n",
      "35212/35212 [==============================] - 51s 1ms/step - loss: 0.1377 - acc: 0.9526 - val_loss: 0.1679 - val_acc: 0.9449\n",
      "\n",
      "Epoch 00007: val_loss did not improve from 0.15067\n",
      "Epoch 8/10\n",
      "35212/35212 [==============================] - 51s 1ms/step - loss: 0.1321 - acc: 0.9546 - val_loss: 0.1715 - val_acc: 0.9406\n",
      "\n",
      "Epoch 00008: val_loss did not improve from 0.15067\n",
      "Epoch 9/10\n",
      "35212/35212 [==============================] - 53s 1ms/step - loss: 0.1243 - acc: 0.9572 - val_loss: 0.1434 - val_acc: 0.9499\n",
      "\n",
      "Epoch 00009: val_loss improved from 0.15067 to 0.14338, saving model to Pesos-ModelG.hdf5\n",
      "Epoch 10/10\n",
      "35212/35212 [==============================] - 54s 2ms/step - loss: 0.1177 - acc: 0.9591 - val_loss: 0.1496 - val_acc: 0.9495\n",
      "\n",
      "Epoch 00010: val_loss did not improve from 0.14338\n"
     ]
    }
   ],
   "source": [
    "historyG = modelG.fit(X_train, Y_train,  batch_size=32, validation_data=[X_test, Y_test], epochs=10, callbacks=[modelG_checkpoint])"
   ]
  },
  {
   "cell_type": "code",
   "execution_count": 65,
   "metadata": {},
   "outputs": [
    {
     "data": {
      "image/png": "[encoded data removed]",
      "text/plain": [
       "<Figure size 432x288 with 2 Axes>"
      ]
     },
     "metadata": {},
     "output_type": "display_data"
    }
   ],
   "source": [
    "pv =  np.ravel(modelG.predict(X_test))\n",
    "pv_round = np.asarray([int(round(i)) for i in pv])\n",
    "conf_mat = confusion_matrix(Y_test, pv_round)\n",
    "matrixConfusion(conf_mat,'Greys',\"MatrizConfusion-ModelG.jpg\")"
   ]
  },
  {
   "cell_type": "markdown",
   "metadata": {},
   "source": [
    "### Prueba H"
   ]
  },
  {
   "cell_type": "code",
   "execution_count": 81,
   "metadata": {},
   "outputs": [],
   "source": [
    "modelH = Sequential()\n",
    "modelH.add(Conv2D(32, kernel_size=(3, 3), input_shape=(32, 32, 3), activation='relu'))\n",
    "modelH.add(Conv2D(64, kernel_size=(3, 3), activation='relu'))\n",
    "modelH.add(MaxPooling2D(pool_size=(2, 2)))\n",
    "    \n",
    "modelH.add(Conv2D(128, kernel_size=(3, 3), activation='relu'))\n",
    "modelH.add(Conv2D(256, kernel_size=(3, 3), activation='relu'))\n",
    "\n",
    "modelH.add(Conv2D(512, kernel_size=(3, 3), activation='relu'))\n",
    "modelH.add(MaxPooling2D(pool_size=(2, 2)))\n",
    "modelH.add(Conv2D(1024, kernel_size=(3, 3), activation='relu'))\n",
    "modelH.add(MaxPooling2D(pool_size=(2, 2)))\n",
    "\n",
    "modelH.add(Flatten())  \n",
    "modelH.add(Dense(256, activation='relu'))\n",
    "modelH.add(Dropout(0.3))\n",
    "modelH.add(Dense(64, activation='relu'))\n",
    "modelH.add(Dropout(0.3))\n",
    "modelH.add(Dense(1, activation='sigmoid'))\n",
    "modelH.compile(loss='binary_crossentropy', optimizer='adam', metrics=['accuracy']) \n",
    "\n",
    "plot_model(modelH, to_file='model_H.png', show_shapes=True, show_layer_names=True)\n",
    "modelH_checkpoint = ModelCheckpoint('Pesos-ModelH.hdf5', monitor='val_loss',verbose=1, save_best_only=True)"
   ]
  },
  {
   "cell_type": "code",
   "execution_count": 82,
   "metadata": {},
   "outputs": [
    {
     "name": "stdout",
     "output_type": "stream",
     "text": [
      "Train on 35212 samples, validate on 15092 samples\n",
      "Epoch 1/10\n",
      "35212/35212 [==============================] - 1834s 52ms/step - loss: 0.7044 - acc: 0.5573 - val_loss: 7.9357 - val_acc: 0.5009\n",
      "\n",
      "Epoch 00001: val_loss improved from inf to 7.93573, saving model to Pesos-ModelH.hdf5\n",
      "Epoch 2/10\n",
      "35212/35212 [==============================] - 1757s 50ms/step - loss: 7.9752 - acc: 0.4998 - val_loss: 7.9712 - val_acc: 0.5000\n",
      "\n",
      "Epoch 00002: val_loss did not improve from 7.93573\n",
      "Epoch 3/10\n",
      "35212/35212 [==============================] - 1766s 50ms/step - loss: 7.9690 - acc: 0.5001 - val_loss: 7.9712 - val_acc: 0.5000\n",
      "\n",
      "Epoch 00003: val_loss did not improve from 7.93573\n",
      "Epoch 4/10\n",
      "35212/35212 [==============================] - 1756s 50ms/step - loss: 7.9703 - acc: 0.5001 - val_loss: 7.9712 - val_acc: 0.5000\n",
      "\n",
      "Epoch 00004: val_loss did not improve from 7.93573\n",
      "Epoch 5/10\n",
      "35212/35212 [==============================] - 1747s 50ms/step - loss: 7.9730 - acc: 0.4999 - val_loss: 7.9712 - val_acc: 0.5000\n",
      "\n",
      "Epoch 00005: val_loss did not improve from 7.93573\n",
      "Epoch 6/10\n",
      "35212/35212 [==============================] - 1752s 50ms/step - loss: 7.9717 - acc: 0.5000 - val_loss: 7.9712 - val_acc: 0.5000\n",
      "\n",
      "Epoch 00006: val_loss did not improve from 7.93573\n",
      "Epoch 7/10\n",
      "32896/35212 [===========================>..] - ETA: 31:37 - loss: 7.9586 - acc: 0.5008"
     ]
    },
    {
     "ename": "KeyboardInterrupt",
     "evalue": "",
     "output_type": "error",
     "traceback": [
      "\u001b[1;31m---------------------------------------------------------------------------\u001b[0m",
      "\u001b[1;31mKeyboardInterrupt\u001b[0m                         Traceback (most recent call last)",
      "\u001b[1;32m<ipython-input-82-0422e3f82c3c>\u001b[0m in \u001b[0;36m<module>\u001b[1;34m()\u001b[0m\n\u001b[1;32m----> 1\u001b[1;33m \u001b[0mhistoryH\u001b[0m \u001b[1;33m=\u001b[0m \u001b[0mmodelH\u001b[0m\u001b[1;33m.\u001b[0m\u001b[0mfit\u001b[0m\u001b[1;33m(\u001b[0m\u001b[0mX_train\u001b[0m\u001b[1;33m,\u001b[0m \u001b[0mY_train\u001b[0m\u001b[1;33m,\u001b[0m  \u001b[0mbatch_size\u001b[0m\u001b[1;33m=\u001b[0m\u001b[1;36m32\u001b[0m\u001b[1;33m,\u001b[0m \u001b[0mvalidation_data\u001b[0m\u001b[1;33m=\u001b[0m\u001b[1;33m[\u001b[0m\u001b[0mX_test\u001b[0m\u001b[1;33m,\u001b[0m \u001b[0mY_test\u001b[0m\u001b[1;33m]\u001b[0m\u001b[1;33m,\u001b[0m \u001b[0mepochs\u001b[0m\u001b[1;33m=\u001b[0m\u001b[1;36m10\u001b[0m\u001b[1;33m,\u001b[0m \u001b[0mcallbacks\u001b[0m\u001b[1;33m=\u001b[0m\u001b[1;33m[\u001b[0m\u001b[0mmodelH_checkpoint\u001b[0m\u001b[1;33m]\u001b[0m\u001b[1;33m)\u001b[0m\u001b[1;33m\u001b[0m\u001b[0m\n\u001b[0m",
      "\u001b[1;32mD:\\Anaconda3\\lib\\site-packages\\keras\\engine\\training.py\u001b[0m in \u001b[0;36mfit\u001b[1;34m(self, x, y, batch_size, epochs, verbose, callbacks, validation_split, validation_data, shuffle, class_weight, sample_weight, initial_epoch, steps_per_epoch, validation_steps, **kwargs)\u001b[0m\n\u001b[0;32m   1037\u001b[0m                                         \u001b[0minitial_epoch\u001b[0m\u001b[1;33m=\u001b[0m\u001b[0minitial_epoch\u001b[0m\u001b[1;33m,\u001b[0m\u001b[1;33m\u001b[0m\u001b[0m\n\u001b[0;32m   1038\u001b[0m                                         \u001b[0msteps_per_epoch\u001b[0m\u001b[1;33m=\u001b[0m\u001b[0msteps_per_epoch\u001b[0m\u001b[1;33m,\u001b[0m\u001b[1;33m\u001b[0m\u001b[0m\n\u001b[1;32m-> 1039\u001b[1;33m                                         validation_steps=validation_steps)\n\u001b[0m\u001b[0;32m   1040\u001b[0m \u001b[1;33m\u001b[0m\u001b[0m\n\u001b[0;32m   1041\u001b[0m     def evaluate(self, x=None, y=None,\n",
      "\u001b[1;32mD:\\Anaconda3\\lib\\site-packages\\keras\\engine\\training_arrays.py\u001b[0m in \u001b[0;36mfit_loop\u001b[1;34m(model, f, ins, out_labels, batch_size, epochs, verbose, callbacks, val_f, val_ins, shuffle, callback_metrics, initial_epoch, steps_per_epoch, validation_steps)\u001b[0m\n\u001b[0;32m    197\u001b[0m                     \u001b[0mins_batch\u001b[0m\u001b[1;33m[\u001b[0m\u001b[0mi\u001b[0m\u001b[1;33m]\u001b[0m \u001b[1;33m=\u001b[0m \u001b[0mins_batch\u001b[0m\u001b[1;33m[\u001b[0m\u001b[0mi\u001b[0m\u001b[1;33m]\u001b[0m\u001b[1;33m.\u001b[0m\u001b[0mtoarray\u001b[0m\u001b[1;33m(\u001b[0m\u001b[1;33m)\u001b[0m\u001b[1;33m\u001b[0m\u001b[0m\n\u001b[0;32m    198\u001b[0m \u001b[1;33m\u001b[0m\u001b[0m\n\u001b[1;32m--> 199\u001b[1;33m                 \u001b[0mouts\u001b[0m \u001b[1;33m=\u001b[0m \u001b[0mf\u001b[0m\u001b[1;33m(\u001b[0m\u001b[0mins_batch\u001b[0m\u001b[1;33m)\u001b[0m\u001b[1;33m\u001b[0m\u001b[0m\n\u001b[0m\u001b[0;32m    200\u001b[0m                 \u001b[0mouts\u001b[0m \u001b[1;33m=\u001b[0m \u001b[0mto_list\u001b[0m\u001b[1;33m(\u001b[0m\u001b[0mouts\u001b[0m\u001b[1;33m)\u001b[0m\u001b[1;33m\u001b[0m\u001b[0m\n\u001b[0;32m    201\u001b[0m                 \u001b[1;32mfor\u001b[0m \u001b[0ml\u001b[0m\u001b[1;33m,\u001b[0m \u001b[0mo\u001b[0m \u001b[1;32min\u001b[0m \u001b[0mzip\u001b[0m\u001b[1;33m(\u001b[0m\u001b[0mout_labels\u001b[0m\u001b[1;33m,\u001b[0m \u001b[0mouts\u001b[0m\u001b[1;33m)\u001b[0m\u001b[1;33m:\u001b[0m\u001b[1;33m\u001b[0m\u001b[0m\n",
      "\u001b[1;32mD:\\Anaconda3\\lib\\site-packages\\keras\\backend\\tensorflow_backend.py\u001b[0m in \u001b[0;36m__call__\u001b[1;34m(self, inputs)\u001b[0m\n\u001b[0;32m   2719\u001b[0m                     \u001b[1;34m'In order to feed symbolic tensors to a Keras model '\u001b[0m\u001b[1;33m\u001b[0m\u001b[0m\n\u001b[0;32m   2720\u001b[0m                     'in TensorFlow, you need tensorflow 1.8 or higher.')\n\u001b[1;32m-> 2721\u001b[1;33m             \u001b[1;32mreturn\u001b[0m \u001b[0mself\u001b[0m\u001b[1;33m.\u001b[0m\u001b[0m_legacy_call\u001b[0m\u001b[1;33m(\u001b[0m\u001b[0minputs\u001b[0m\u001b[1;33m)\u001b[0m\u001b[1;33m\u001b[0m\u001b[0m\n\u001b[0m\u001b[0;32m   2722\u001b[0m \u001b[1;33m\u001b[0m\u001b[0m\n\u001b[0;32m   2723\u001b[0m \u001b[1;33m\u001b[0m\u001b[0m\n",
      "\u001b[1;32mD:\\Anaconda3\\lib\\site-packages\\keras\\backend\\tensorflow_backend.py\u001b[0m in \u001b[0;36m_legacy_call\u001b[1;34m(self, inputs)\u001b[0m\n\u001b[0;32m   2691\u001b[0m         \u001b[0msession\u001b[0m \u001b[1;33m=\u001b[0m \u001b[0mget_session\u001b[0m\u001b[1;33m(\u001b[0m\u001b[1;33m)\u001b[0m\u001b[1;33m\u001b[0m\u001b[0m\n\u001b[0;32m   2692\u001b[0m         updated = session.run(fetches=fetches, feed_dict=feed_dict,\n\u001b[1;32m-> 2693\u001b[1;33m                               **self.session_kwargs)\n\u001b[0m\u001b[0;32m   2694\u001b[0m         \u001b[1;32mreturn\u001b[0m \u001b[0mupdated\u001b[0m\u001b[1;33m[\u001b[0m\u001b[1;33m:\u001b[0m\u001b[0mlen\u001b[0m\u001b[1;33m(\u001b[0m\u001b[0mself\u001b[0m\u001b[1;33m.\u001b[0m\u001b[0moutputs\u001b[0m\u001b[1;33m)\u001b[0m\u001b[1;33m]\u001b[0m\u001b[1;33m\u001b[0m\u001b[0m\n\u001b[0;32m   2695\u001b[0m \u001b[1;33m\u001b[0m\u001b[0m\n",
      "\u001b[1;32mD:\\Anaconda3\\lib\\site-packages\\tensorflow\\python\\client\\session.py\u001b[0m in \u001b[0;36mrun\u001b[1;34m(self, fetches, feed_dict, options, run_metadata)\u001b[0m\n\u001b[0;32m    776\u001b[0m     \u001b[1;32mtry\u001b[0m\u001b[1;33m:\u001b[0m\u001b[1;33m\u001b[0m\u001b[0m\n\u001b[0;32m    777\u001b[0m       result = self._run(None, fetches, feed_dict, options_ptr,\n\u001b[1;32m--> 778\u001b[1;33m                          run_metadata_ptr)\n\u001b[0m\u001b[0;32m    779\u001b[0m       \u001b[1;32mif\u001b[0m \u001b[0mrun_metadata\u001b[0m\u001b[1;33m:\u001b[0m\u001b[1;33m\u001b[0m\u001b[0m\n\u001b[0;32m    780\u001b[0m         \u001b[0mproto_data\u001b[0m \u001b[1;33m=\u001b[0m \u001b[0mtf_session\u001b[0m\u001b[1;33m.\u001b[0m\u001b[0mTF_GetBuffer\u001b[0m\u001b[1;33m(\u001b[0m\u001b[0mrun_metadata_ptr\u001b[0m\u001b[1;33m)\u001b[0m\u001b[1;33m\u001b[0m\u001b[0m\n",
      "\u001b[1;32mD:\\Anaconda3\\lib\\site-packages\\tensorflow\\python\\client\\session.py\u001b[0m in \u001b[0;36m_run\u001b[1;34m(self, handle, fetches, feed_dict, options, run_metadata)\u001b[0m\n\u001b[0;32m    980\u001b[0m     \u001b[1;32mif\u001b[0m \u001b[0mfinal_fetches\u001b[0m \u001b[1;32mor\u001b[0m \u001b[0mfinal_targets\u001b[0m\u001b[1;33m:\u001b[0m\u001b[1;33m\u001b[0m\u001b[0m\n\u001b[0;32m    981\u001b[0m       results = self._do_run(handle, final_targets, final_fetches,\n\u001b[1;32m--> 982\u001b[1;33m                              feed_dict_string, options, run_metadata)\n\u001b[0m\u001b[0;32m    983\u001b[0m     \u001b[1;32melse\u001b[0m\u001b[1;33m:\u001b[0m\u001b[1;33m\u001b[0m\u001b[0m\n\u001b[0;32m    984\u001b[0m       \u001b[0mresults\u001b[0m \u001b[1;33m=\u001b[0m \u001b[1;33m[\u001b[0m\u001b[1;33m]\u001b[0m\u001b[1;33m\u001b[0m\u001b[0m\n",
      "\u001b[1;32mD:\\Anaconda3\\lib\\site-packages\\tensorflow\\python\\client\\session.py\u001b[0m in \u001b[0;36m_do_run\u001b[1;34m(self, handle, target_list, fetch_list, feed_dict, options, run_metadata)\u001b[0m\n\u001b[0;32m   1030\u001b[0m     \u001b[1;32mif\u001b[0m \u001b[0mhandle\u001b[0m \u001b[1;32mis\u001b[0m \u001b[1;32mNone\u001b[0m\u001b[1;33m:\u001b[0m\u001b[1;33m\u001b[0m\u001b[0m\n\u001b[0;32m   1031\u001b[0m       return self._do_call(_run_fn, self._session, feed_dict, fetch_list,\n\u001b[1;32m-> 1032\u001b[1;33m                            target_list, options, run_metadata)\n\u001b[0m\u001b[0;32m   1033\u001b[0m     \u001b[1;32melse\u001b[0m\u001b[1;33m:\u001b[0m\u001b[1;33m\u001b[0m\u001b[0m\n\u001b[0;32m   1034\u001b[0m       return self._do_call(_prun_fn, self._session, handle, feed_dict,\n",
      "\u001b[1;32mD:\\Anaconda3\\lib\\site-packages\\tensorflow\\python\\client\\session.py\u001b[0m in \u001b[0;36m_do_call\u001b[1;34m(self, fn, *args)\u001b[0m\n\u001b[0;32m   1037\u001b[0m   \u001b[1;32mdef\u001b[0m \u001b[0m_do_call\u001b[0m\u001b[1;33m(\u001b[0m\u001b[0mself\u001b[0m\u001b[1;33m,\u001b[0m \u001b[0mfn\u001b[0m\u001b[1;33m,\u001b[0m \u001b[1;33m*\u001b[0m\u001b[0margs\u001b[0m\u001b[1;33m)\u001b[0m\u001b[1;33m:\u001b[0m\u001b[1;33m\u001b[0m\u001b[0m\n\u001b[0;32m   1038\u001b[0m     \u001b[1;32mtry\u001b[0m\u001b[1;33m:\u001b[0m\u001b[1;33m\u001b[0m\u001b[0m\n\u001b[1;32m-> 1039\u001b[1;33m       \u001b[1;32mreturn\u001b[0m \u001b[0mfn\u001b[0m\u001b[1;33m(\u001b[0m\u001b[1;33m*\u001b[0m\u001b[0margs\u001b[0m\u001b[1;33m)\u001b[0m\u001b[1;33m\u001b[0m\u001b[0m\n\u001b[0m\u001b[0;32m   1040\u001b[0m     \u001b[1;32mexcept\u001b[0m \u001b[0merrors\u001b[0m\u001b[1;33m.\u001b[0m\u001b[0mOpError\u001b[0m \u001b[1;32mas\u001b[0m \u001b[0me\u001b[0m\u001b[1;33m:\u001b[0m\u001b[1;33m\u001b[0m\u001b[0m\n\u001b[0;32m   1041\u001b[0m       \u001b[0mmessage\u001b[0m \u001b[1;33m=\u001b[0m \u001b[0mcompat\u001b[0m\u001b[1;33m.\u001b[0m\u001b[0mas_text\u001b[0m\u001b[1;33m(\u001b[0m\u001b[0me\u001b[0m\u001b[1;33m.\u001b[0m\u001b[0mmessage\u001b[0m\u001b[1;33m)\u001b[0m\u001b[1;33m\u001b[0m\u001b[0m\n",
      "\u001b[1;32mD:\\Anaconda3\\lib\\site-packages\\tensorflow\\python\\client\\session.py\u001b[0m in \u001b[0;36m_run_fn\u001b[1;34m(session, feed_dict, fetch_list, target_list, options, run_metadata)\u001b[0m\n\u001b[0;32m   1019\u001b[0m         return tf_session.TF_Run(session, options,\n\u001b[0;32m   1020\u001b[0m                                  \u001b[0mfeed_dict\u001b[0m\u001b[1;33m,\u001b[0m \u001b[0mfetch_list\u001b[0m\u001b[1;33m,\u001b[0m \u001b[0mtarget_list\u001b[0m\u001b[1;33m,\u001b[0m\u001b[1;33m\u001b[0m\u001b[0m\n\u001b[1;32m-> 1021\u001b[1;33m                                  status, run_metadata)\n\u001b[0m\u001b[0;32m   1022\u001b[0m \u001b[1;33m\u001b[0m\u001b[0m\n\u001b[0;32m   1023\u001b[0m     \u001b[1;32mdef\u001b[0m \u001b[0m_prun_fn\u001b[0m\u001b[1;33m(\u001b[0m\u001b[0msession\u001b[0m\u001b[1;33m,\u001b[0m \u001b[0mhandle\u001b[0m\u001b[1;33m,\u001b[0m \u001b[0mfeed_dict\u001b[0m\u001b[1;33m,\u001b[0m \u001b[0mfetch_list\u001b[0m\u001b[1;33m)\u001b[0m\u001b[1;33m:\u001b[0m\u001b[1;33m\u001b[0m\u001b[0m\n",
      "\u001b[1;31mKeyboardInterrupt\u001b[0m: "
     ]
    }
   ],
   "source": [
    "historyH = modelH.fit(X_train, Y_train,  batch_size=32, validation_data=[X_test, Y_test], epochs=10, callbacks=[modelH_checkpoint])"
   ]
  },
  {
   "cell_type": "code",
   "execution_count": null,
   "metadata": {},
   "outputs": [],
   "source": [
    "pv =  np.ravel(modelH.predict(X_test))\n",
    "pv_round = np.asarray([int(round(i)) for i in pv])\n",
    "conf_mat = confusion_matrix(Y_test, pv_round)\n",
    "matrixConfusion(conf_mat,'Greys',\"MatrizConfusion-ModelH.jpg\")"
   ]
  },
  {
   "cell_type": "markdown",
   "metadata": {},
   "source": [
    "### Prueba K"
   ]
  },
  {
   "cell_type": "code",
   "execution_count": 72,
   "metadata": {},
   "outputs": [
    {
     "ename": "ValueError",
     "evalue": "Negative dimension size caused by subtracting 3 from 2 for 'conv2d_41/convolution' (op: 'Conv2D') with input shapes: [?,2,2,128], [3,3,128,256].",
     "output_type": "error",
     "traceback": [
      "\u001b[1;31m---------------------------------------------------------------------------\u001b[0m",
      "\u001b[1;31mInvalidArgumentError\u001b[0m                      Traceback (most recent call last)",
      "\u001b[1;32mD:\\Anaconda3\\lib\\site-packages\\tensorflow\\python\\framework\\common_shapes.py\u001b[0m in \u001b[0;36m_call_cpp_shape_fn_impl\u001b[1;34m(op, input_tensors_needed, input_tensors_as_shapes_needed, debug_python_shape_fn, require_shape_fn)\u001b[0m\n\u001b[0;32m    670\u001b[0m           \u001b[0mgraph_def_version\u001b[0m\u001b[1;33m,\u001b[0m \u001b[0mnode_def_str\u001b[0m\u001b[1;33m,\u001b[0m \u001b[0minput_shapes\u001b[0m\u001b[1;33m,\u001b[0m \u001b[0minput_tensors\u001b[0m\u001b[1;33m,\u001b[0m\u001b[1;33m\u001b[0m\u001b[0m\n\u001b[1;32m--> 671\u001b[1;33m           input_tensors_as_shapes, status)\n\u001b[0m\u001b[0;32m    672\u001b[0m   \u001b[1;32mexcept\u001b[0m \u001b[0merrors\u001b[0m\u001b[1;33m.\u001b[0m\u001b[0mInvalidArgumentError\u001b[0m \u001b[1;32mas\u001b[0m \u001b[0merr\u001b[0m\u001b[1;33m:\u001b[0m\u001b[1;33m\u001b[0m\u001b[0m\n",
      "\u001b[1;32mD:\\Anaconda3\\lib\\contextlib.py\u001b[0m in \u001b[0;36m__exit__\u001b[1;34m(self, type, value, traceback)\u001b[0m\n\u001b[0;32m     87\u001b[0m             \u001b[1;32mtry\u001b[0m\u001b[1;33m:\u001b[0m\u001b[1;33m\u001b[0m\u001b[0m\n\u001b[1;32m---> 88\u001b[1;33m                 \u001b[0mnext\u001b[0m\u001b[1;33m(\u001b[0m\u001b[0mself\u001b[0m\u001b[1;33m.\u001b[0m\u001b[0mgen\u001b[0m\u001b[1;33m)\u001b[0m\u001b[1;33m\u001b[0m\u001b[0m\n\u001b[0m\u001b[0;32m     89\u001b[0m             \u001b[1;32mexcept\u001b[0m \u001b[0mStopIteration\u001b[0m\u001b[1;33m:\u001b[0m\u001b[1;33m\u001b[0m\u001b[0m\n",
      "\u001b[1;32mD:\\Anaconda3\\lib\\site-packages\\tensorflow\\python\\framework\\errors_impl.py\u001b[0m in \u001b[0;36mraise_exception_on_not_ok_status\u001b[1;34m()\u001b[0m\n\u001b[0;32m    465\u001b[0m           \u001b[0mcompat\u001b[0m\u001b[1;33m.\u001b[0m\u001b[0mas_text\u001b[0m\u001b[1;33m(\u001b[0m\u001b[0mpywrap_tensorflow\u001b[0m\u001b[1;33m.\u001b[0m\u001b[0mTF_Message\u001b[0m\u001b[1;33m(\u001b[0m\u001b[0mstatus\u001b[0m\u001b[1;33m)\u001b[0m\u001b[1;33m)\u001b[0m\u001b[1;33m,\u001b[0m\u001b[1;33m\u001b[0m\u001b[0m\n\u001b[1;32m--> 466\u001b[1;33m           pywrap_tensorflow.TF_GetCode(status))\n\u001b[0m\u001b[0;32m    467\u001b[0m   \u001b[1;32mfinally\u001b[0m\u001b[1;33m:\u001b[0m\u001b[1;33m\u001b[0m\u001b[0m\n",
      "\u001b[1;31mInvalidArgumentError\u001b[0m: Negative dimension size caused by subtracting 3 from 2 for 'conv2d_41/convolution' (op: 'Conv2D') with input shapes: [?,2,2,128], [3,3,128,256].",
      "\nDuring handling of the above exception, another exception occurred:\n",
      "\u001b[1;31mValueError\u001b[0m                                Traceback (most recent call last)",
      "\u001b[1;32m<ipython-input-72-3bc2d6b737ea>\u001b[0m in \u001b[0;36m<module>\u001b[1;34m()\u001b[0m\n\u001b[0;32m     12\u001b[0m \u001b[0mmodelK\u001b[0m\u001b[1;33m.\u001b[0m\u001b[0madd\u001b[0m\u001b[1;33m(\u001b[0m\u001b[0mActivation\u001b[0m\u001b[1;33m(\u001b[0m\u001b[1;34m'relu'\u001b[0m\u001b[1;33m)\u001b[0m\u001b[1;33m)\u001b[0m\u001b[1;33m\u001b[0m\u001b[0m\n\u001b[0;32m     13\u001b[0m \u001b[1;33m\u001b[0m\u001b[0m\n\u001b[1;32m---> 14\u001b[1;33m \u001b[0mmodelK\u001b[0m\u001b[1;33m.\u001b[0m\u001b[0madd\u001b[0m\u001b[1;33m(\u001b[0m\u001b[0mConv2D\u001b[0m\u001b[1;33m(\u001b[0m\u001b[1;36m256\u001b[0m\u001b[1;33m,\u001b[0m \u001b[1;33m(\u001b[0m\u001b[1;36m3\u001b[0m\u001b[1;33m,\u001b[0m \u001b[1;36m3\u001b[0m\u001b[1;33m)\u001b[0m\u001b[1;33m)\u001b[0m\u001b[1;33m)\u001b[0m\u001b[1;33m\u001b[0m\u001b[0m\n\u001b[0m\u001b[0;32m     15\u001b[0m \u001b[0mmodelK\u001b[0m\u001b[1;33m.\u001b[0m\u001b[0madd\u001b[0m\u001b[1;33m(\u001b[0m\u001b[0mMaxPooling2D\u001b[0m\u001b[1;33m(\u001b[0m\u001b[0mpool_size\u001b[0m\u001b[1;33m=\u001b[0m\u001b[1;33m(\u001b[0m\u001b[1;36m2\u001b[0m\u001b[1;33m,\u001b[0m \u001b[1;36m2\u001b[0m\u001b[1;33m)\u001b[0m\u001b[1;33m)\u001b[0m\u001b[1;33m)\u001b[0m \u001b[1;31m#Comprimir la info y hacer que sea menos propensa a errores de traslaciones\u001b[0m\u001b[1;33m\u001b[0m\u001b[0m\n\u001b[0;32m     16\u001b[0m \u001b[0mmodelK\u001b[0m\u001b[1;33m.\u001b[0m\u001b[0madd\u001b[0m\u001b[1;33m(\u001b[0m\u001b[0mActivation\u001b[0m\u001b[1;33m(\u001b[0m\u001b[1;34m'relu'\u001b[0m\u001b[1;33m)\u001b[0m\u001b[1;33m)\u001b[0m\u001b[1;33m\u001b[0m\u001b[0m\n",
      "\u001b[1;32mD:\\Anaconda3\\lib\\site-packages\\keras\\engine\\sequential.py\u001b[0m in \u001b[0;36madd\u001b[1;34m(self, layer)\u001b[0m\n\u001b[0;32m    179\u001b[0m                 \u001b[0mself\u001b[0m\u001b[1;33m.\u001b[0m\u001b[0minputs\u001b[0m \u001b[1;33m=\u001b[0m \u001b[0mnetwork\u001b[0m\u001b[1;33m.\u001b[0m\u001b[0mget_source_inputs\u001b[0m\u001b[1;33m(\u001b[0m\u001b[0mself\u001b[0m\u001b[1;33m.\u001b[0m\u001b[0moutputs\u001b[0m\u001b[1;33m[\u001b[0m\u001b[1;36m0\u001b[0m\u001b[1;33m]\u001b[0m\u001b[1;33m)\u001b[0m\u001b[1;33m\u001b[0m\u001b[0m\n\u001b[0;32m    180\u001b[0m         \u001b[1;32melif\u001b[0m \u001b[0mself\u001b[0m\u001b[1;33m.\u001b[0m\u001b[0moutputs\u001b[0m\u001b[1;33m:\u001b[0m\u001b[1;33m\u001b[0m\u001b[0m\n\u001b[1;32m--> 181\u001b[1;33m             \u001b[0moutput_tensor\u001b[0m \u001b[1;33m=\u001b[0m \u001b[0mlayer\u001b[0m\u001b[1;33m(\u001b[0m\u001b[0mself\u001b[0m\u001b[1;33m.\u001b[0m\u001b[0moutputs\u001b[0m\u001b[1;33m[\u001b[0m\u001b[1;36m0\u001b[0m\u001b[1;33m]\u001b[0m\u001b[1;33m)\u001b[0m\u001b[1;33m\u001b[0m\u001b[0m\n\u001b[0m\u001b[0;32m    182\u001b[0m             \u001b[1;32mif\u001b[0m \u001b[0misinstance\u001b[0m\u001b[1;33m(\u001b[0m\u001b[0moutput_tensor\u001b[0m\u001b[1;33m,\u001b[0m \u001b[0mlist\u001b[0m\u001b[1;33m)\u001b[0m\u001b[1;33m:\u001b[0m\u001b[1;33m\u001b[0m\u001b[0m\n\u001b[0;32m    183\u001b[0m                 raise TypeError('All layers in a Sequential model '\n",
      "\u001b[1;32mD:\\Anaconda3\\lib\\site-packages\\keras\\engine\\base_layer.py\u001b[0m in \u001b[0;36m__call__\u001b[1;34m(self, inputs, **kwargs)\u001b[0m\n\u001b[0;32m    455\u001b[0m             \u001b[1;31m# Actually call the layer,\u001b[0m\u001b[1;33m\u001b[0m\u001b[1;33m\u001b[0m\u001b[0m\n\u001b[0;32m    456\u001b[0m             \u001b[1;31m# collecting output(s), mask(s), and shape(s).\u001b[0m\u001b[1;33m\u001b[0m\u001b[1;33m\u001b[0m\u001b[0m\n\u001b[1;32m--> 457\u001b[1;33m             \u001b[0moutput\u001b[0m \u001b[1;33m=\u001b[0m \u001b[0mself\u001b[0m\u001b[1;33m.\u001b[0m\u001b[0mcall\u001b[0m\u001b[1;33m(\u001b[0m\u001b[0minputs\u001b[0m\u001b[1;33m,\u001b[0m \u001b[1;33m**\u001b[0m\u001b[0mkwargs\u001b[0m\u001b[1;33m)\u001b[0m\u001b[1;33m\u001b[0m\u001b[0m\n\u001b[0m\u001b[0;32m    458\u001b[0m             \u001b[0moutput_mask\u001b[0m \u001b[1;33m=\u001b[0m \u001b[0mself\u001b[0m\u001b[1;33m.\u001b[0m\u001b[0mcompute_mask\u001b[0m\u001b[1;33m(\u001b[0m\u001b[0minputs\u001b[0m\u001b[1;33m,\u001b[0m \u001b[0mprevious_mask\u001b[0m\u001b[1;33m)\u001b[0m\u001b[1;33m\u001b[0m\u001b[0m\n\u001b[0;32m    459\u001b[0m \u001b[1;33m\u001b[0m\u001b[0m\n",
      "\u001b[1;32mD:\\Anaconda3\\lib\\site-packages\\keras\\layers\\convolutional.py\u001b[0m in \u001b[0;36mcall\u001b[1;34m(self, inputs)\u001b[0m\n\u001b[0;32m    169\u001b[0m                 \u001b[0mpadding\u001b[0m\u001b[1;33m=\u001b[0m\u001b[0mself\u001b[0m\u001b[1;33m.\u001b[0m\u001b[0mpadding\u001b[0m\u001b[1;33m,\u001b[0m\u001b[1;33m\u001b[0m\u001b[0m\n\u001b[0;32m    170\u001b[0m                 \u001b[0mdata_format\u001b[0m\u001b[1;33m=\u001b[0m\u001b[0mself\u001b[0m\u001b[1;33m.\u001b[0m\u001b[0mdata_format\u001b[0m\u001b[1;33m,\u001b[0m\u001b[1;33m\u001b[0m\u001b[0m\n\u001b[1;32m--> 171\u001b[1;33m                 dilation_rate=self.dilation_rate)\n\u001b[0m\u001b[0;32m    172\u001b[0m         \u001b[1;32mif\u001b[0m \u001b[0mself\u001b[0m\u001b[1;33m.\u001b[0m\u001b[0mrank\u001b[0m \u001b[1;33m==\u001b[0m \u001b[1;36m3\u001b[0m\u001b[1;33m:\u001b[0m\u001b[1;33m\u001b[0m\u001b[0m\n\u001b[0;32m    173\u001b[0m             outputs = K.conv3d(\n",
      "\u001b[1;32mD:\\Anaconda3\\lib\\site-packages\\keras\\backend\\tensorflow_backend.py\u001b[0m in \u001b[0;36mconv2d\u001b[1;34m(x, kernel, strides, padding, data_format, dilation_rate)\u001b[0m\n\u001b[0;32m   3648\u001b[0m         \u001b[0mstrides\u001b[0m\u001b[1;33m=\u001b[0m\u001b[0mstrides\u001b[0m\u001b[1;33m,\u001b[0m\u001b[1;33m\u001b[0m\u001b[0m\n\u001b[0;32m   3649\u001b[0m         \u001b[0mpadding\u001b[0m\u001b[1;33m=\u001b[0m\u001b[0mpadding\u001b[0m\u001b[1;33m,\u001b[0m\u001b[1;33m\u001b[0m\u001b[0m\n\u001b[1;32m-> 3650\u001b[1;33m         data_format=tf_data_format)\n\u001b[0m\u001b[0;32m   3651\u001b[0m \u001b[1;33m\u001b[0m\u001b[0m\n\u001b[0;32m   3652\u001b[0m     \u001b[1;32mif\u001b[0m \u001b[0mdata_format\u001b[0m \u001b[1;33m==\u001b[0m \u001b[1;34m'channels_first'\u001b[0m \u001b[1;32mand\u001b[0m \u001b[0mtf_data_format\u001b[0m \u001b[1;33m==\u001b[0m \u001b[1;34m'NHWC'\u001b[0m\u001b[1;33m:\u001b[0m\u001b[1;33m\u001b[0m\u001b[0m\n",
      "\u001b[1;32mD:\\Anaconda3\\lib\\site-packages\\tensorflow\\python\\ops\\nn_ops.py\u001b[0m in \u001b[0;36mconvolution\u001b[1;34m(input, filter, padding, strides, dilation_rate, name, data_format)\u001b[0m\n\u001b[0;32m    659\u001b[0m         \u001b[0mdilation_rate\u001b[0m\u001b[1;33m=\u001b[0m\u001b[0mdilation_rate\u001b[0m\u001b[1;33m,\u001b[0m\u001b[1;33m\u001b[0m\u001b[0m\n\u001b[0;32m    660\u001b[0m         \u001b[0mpadding\u001b[0m\u001b[1;33m=\u001b[0m\u001b[0mpadding\u001b[0m\u001b[1;33m,\u001b[0m\u001b[1;33m\u001b[0m\u001b[0m\n\u001b[1;32m--> 661\u001b[1;33m         op=op)\n\u001b[0m\u001b[0;32m    662\u001b[0m \u001b[1;33m\u001b[0m\u001b[0m\n\u001b[0;32m    663\u001b[0m \u001b[1;33m\u001b[0m\u001b[0m\n",
      "\u001b[1;32mD:\\Anaconda3\\lib\\site-packages\\tensorflow\\python\\ops\\nn_ops.py\u001b[0m in \u001b[0;36mwith_space_to_batch\u001b[1;34m(input, dilation_rate, padding, op, filter_shape, spatial_dims, data_format)\u001b[0m\n\u001b[0;32m    329\u001b[0m       \u001b[1;32mraise\u001b[0m \u001b[0mValueError\u001b[0m\u001b[1;33m(\u001b[0m\u001b[1;34m\"dilation_rate must be positive\"\u001b[0m\u001b[1;33m)\u001b[0m\u001b[1;33m\u001b[0m\u001b[0m\n\u001b[0;32m    330\u001b[0m     \u001b[1;32mif\u001b[0m \u001b[0mnp\u001b[0m\u001b[1;33m.\u001b[0m\u001b[0mall\u001b[0m\u001b[1;33m(\u001b[0m\u001b[0mconst_rate\u001b[0m \u001b[1;33m==\u001b[0m \u001b[1;36m1\u001b[0m\u001b[1;33m)\u001b[0m\u001b[1;33m:\u001b[0m\u001b[1;33m\u001b[0m\u001b[0m\n\u001b[1;32m--> 331\u001b[1;33m       \u001b[1;32mreturn\u001b[0m \u001b[0mop\u001b[0m\u001b[1;33m(\u001b[0m\u001b[0minput\u001b[0m\u001b[1;33m,\u001b[0m \u001b[0mnum_spatial_dims\u001b[0m\u001b[1;33m,\u001b[0m \u001b[0mpadding\u001b[0m\u001b[1;33m)\u001b[0m\u001b[1;33m\u001b[0m\u001b[0m\n\u001b[0m\u001b[0;32m    332\u001b[0m \u001b[1;33m\u001b[0m\u001b[0m\n\u001b[0;32m    333\u001b[0m   \u001b[1;31m# We have two padding contributions. The first is used for converting \"SAME\"\u001b[0m\u001b[1;33m\u001b[0m\u001b[1;33m\u001b[0m\u001b[0m\n",
      "\u001b[1;32mD:\\Anaconda3\\lib\\site-packages\\tensorflow\\python\\ops\\nn_ops.py\u001b[0m in \u001b[0;36mop\u001b[1;34m(input_converted, _, padding)\u001b[0m\n\u001b[0;32m    651\u001b[0m           \u001b[0mdata_format\u001b[0m\u001b[1;33m=\u001b[0m\u001b[0mdata_format\u001b[0m\u001b[1;33m,\u001b[0m\u001b[1;33m\u001b[0m\u001b[0m\n\u001b[0;32m    652\u001b[0m           \u001b[0mstrides\u001b[0m\u001b[1;33m=\u001b[0m\u001b[0mstrides\u001b[0m\u001b[1;33m,\u001b[0m\u001b[1;33m\u001b[0m\u001b[0m\n\u001b[1;32m--> 653\u001b[1;33m           name=name)\n\u001b[0m\u001b[0;32m    654\u001b[0m \u001b[1;33m\u001b[0m\u001b[0m\n\u001b[0;32m    655\u001b[0m     return with_space_to_batch(\n",
      "\u001b[1;32mD:\\Anaconda3\\lib\\site-packages\\tensorflow\\python\\ops\\nn_ops.py\u001b[0m in \u001b[0;36m_non_atrous_convolution\u001b[1;34m(input, filter, padding, data_format, strides, name)\u001b[0m\n\u001b[0;32m    127\u001b[0m           \u001b[0mpadding\u001b[0m\u001b[1;33m=\u001b[0m\u001b[0mpadding\u001b[0m\u001b[1;33m,\u001b[0m\u001b[1;33m\u001b[0m\u001b[0m\n\u001b[0;32m    128\u001b[0m           \u001b[0mdata_format\u001b[0m\u001b[1;33m=\u001b[0m\u001b[0mdata_format\u001b[0m\u001b[1;33m,\u001b[0m\u001b[1;33m\u001b[0m\u001b[0m\n\u001b[1;32m--> 129\u001b[1;33m           name=name)\n\u001b[0m\u001b[0;32m    130\u001b[0m     \u001b[1;32melif\u001b[0m \u001b[0mconv_dims\u001b[0m \u001b[1;33m==\u001b[0m \u001b[1;36m3\u001b[0m\u001b[1;33m:\u001b[0m\u001b[1;33m\u001b[0m\u001b[0m\n\u001b[0;32m    131\u001b[0m       \u001b[1;32mif\u001b[0m \u001b[0mdata_format\u001b[0m \u001b[1;32mis\u001b[0m \u001b[1;32mNone\u001b[0m \u001b[1;32mor\u001b[0m \u001b[0mdata_format\u001b[0m \u001b[1;33m==\u001b[0m \u001b[1;34m\"NDHWC\"\u001b[0m\u001b[1;33m:\u001b[0m\u001b[1;33m\u001b[0m\u001b[0m\n",
      "\u001b[1;32mD:\\Anaconda3\\lib\\site-packages\\tensorflow\\python\\ops\\gen_nn_ops.py\u001b[0m in \u001b[0;36mconv2d\u001b[1;34m(input, filter, strides, padding, use_cudnn_on_gpu, data_format, name)\u001b[0m\n\u001b[0;32m    401\u001b[0m                                 \u001b[0mstrides\u001b[0m\u001b[1;33m=\u001b[0m\u001b[0mstrides\u001b[0m\u001b[1;33m,\u001b[0m \u001b[0mpadding\u001b[0m\u001b[1;33m=\u001b[0m\u001b[0mpadding\u001b[0m\u001b[1;33m,\u001b[0m\u001b[1;33m\u001b[0m\u001b[0m\n\u001b[0;32m    402\u001b[0m                                 \u001b[0muse_cudnn_on_gpu\u001b[0m\u001b[1;33m=\u001b[0m\u001b[0muse_cudnn_on_gpu\u001b[0m\u001b[1;33m,\u001b[0m\u001b[1;33m\u001b[0m\u001b[0m\n\u001b[1;32m--> 403\u001b[1;33m                                 data_format=data_format, name=name)\n\u001b[0m\u001b[0;32m    404\u001b[0m   \u001b[1;32mreturn\u001b[0m \u001b[0mresult\u001b[0m\u001b[1;33m\u001b[0m\u001b[0m\n\u001b[0;32m    405\u001b[0m \u001b[1;33m\u001b[0m\u001b[0m\n",
      "\u001b[1;32mD:\\Anaconda3\\lib\\site-packages\\tensorflow\\python\\framework\\op_def_library.py\u001b[0m in \u001b[0;36mapply_op\u001b[1;34m(self, op_type_name, name, **keywords)\u001b[0m\n\u001b[0;32m    766\u001b[0m         op = g.create_op(op_type_name, inputs, output_types, name=scope,\n\u001b[0;32m    767\u001b[0m                          \u001b[0minput_types\u001b[0m\u001b[1;33m=\u001b[0m\u001b[0minput_types\u001b[0m\u001b[1;33m,\u001b[0m \u001b[0mattrs\u001b[0m\u001b[1;33m=\u001b[0m\u001b[0mattr_protos\u001b[0m\u001b[1;33m,\u001b[0m\u001b[1;33m\u001b[0m\u001b[0m\n\u001b[1;32m--> 768\u001b[1;33m                          op_def=op_def)\n\u001b[0m\u001b[0;32m    769\u001b[0m         \u001b[1;32mif\u001b[0m \u001b[0moutput_structure\u001b[0m\u001b[1;33m:\u001b[0m\u001b[1;33m\u001b[0m\u001b[0m\n\u001b[0;32m    770\u001b[0m           \u001b[0moutputs\u001b[0m \u001b[1;33m=\u001b[0m \u001b[0mop\u001b[0m\u001b[1;33m.\u001b[0m\u001b[0moutputs\u001b[0m\u001b[1;33m\u001b[0m\u001b[0m\n",
      "\u001b[1;32mD:\\Anaconda3\\lib\\site-packages\\tensorflow\\python\\framework\\ops.py\u001b[0m in \u001b[0;36mcreate_op\u001b[1;34m(self, op_type, inputs, dtypes, input_types, name, attrs, op_def, compute_shapes, compute_device)\u001b[0m\n\u001b[0;32m   2336\u001b[0m                     original_op=self._default_original_op, op_def=op_def)\n\u001b[0;32m   2337\u001b[0m     \u001b[1;32mif\u001b[0m \u001b[0mcompute_shapes\u001b[0m\u001b[1;33m:\u001b[0m\u001b[1;33m\u001b[0m\u001b[0m\n\u001b[1;32m-> 2338\u001b[1;33m       \u001b[0mset_shapes_for_outputs\u001b[0m\u001b[1;33m(\u001b[0m\u001b[0mret\u001b[0m\u001b[1;33m)\u001b[0m\u001b[1;33m\u001b[0m\u001b[0m\n\u001b[0m\u001b[0;32m   2339\u001b[0m     \u001b[0mself\u001b[0m\u001b[1;33m.\u001b[0m\u001b[0m_add_op\u001b[0m\u001b[1;33m(\u001b[0m\u001b[0mret\u001b[0m\u001b[1;33m)\u001b[0m\u001b[1;33m\u001b[0m\u001b[0m\n\u001b[0;32m   2340\u001b[0m     \u001b[0mself\u001b[0m\u001b[1;33m.\u001b[0m\u001b[0m_record_op_seen_by_control_dependencies\u001b[0m\u001b[1;33m(\u001b[0m\u001b[0mret\u001b[0m\u001b[1;33m)\u001b[0m\u001b[1;33m\u001b[0m\u001b[0m\n",
      "\u001b[1;32mD:\\Anaconda3\\lib\\site-packages\\tensorflow\\python\\framework\\ops.py\u001b[0m in \u001b[0;36mset_shapes_for_outputs\u001b[1;34m(op)\u001b[0m\n\u001b[0;32m   1717\u001b[0m       \u001b[0mshape_func\u001b[0m \u001b[1;33m=\u001b[0m \u001b[0m_call_cpp_shape_fn_and_require_op\u001b[0m\u001b[1;33m\u001b[0m\u001b[0m\n\u001b[0;32m   1718\u001b[0m \u001b[1;33m\u001b[0m\u001b[0m\n\u001b[1;32m-> 1719\u001b[1;33m   \u001b[0mshapes\u001b[0m \u001b[1;33m=\u001b[0m \u001b[0mshape_func\u001b[0m\u001b[1;33m(\u001b[0m\u001b[0mop\u001b[0m\u001b[1;33m)\u001b[0m\u001b[1;33m\u001b[0m\u001b[0m\n\u001b[0m\u001b[0;32m   1720\u001b[0m   \u001b[1;32mif\u001b[0m \u001b[0mshapes\u001b[0m \u001b[1;32mis\u001b[0m \u001b[1;32mNone\u001b[0m\u001b[1;33m:\u001b[0m\u001b[1;33m\u001b[0m\u001b[0m\n\u001b[0;32m   1721\u001b[0m     raise RuntimeError(\n",
      "\u001b[1;32mD:\\Anaconda3\\lib\\site-packages\\tensorflow\\python\\framework\\ops.py\u001b[0m in \u001b[0;36mcall_with_requiring\u001b[1;34m(op)\u001b[0m\n\u001b[0;32m   1667\u001b[0m \u001b[1;33m\u001b[0m\u001b[0m\n\u001b[0;32m   1668\u001b[0m   \u001b[1;32mdef\u001b[0m \u001b[0mcall_with_requiring\u001b[0m\u001b[1;33m(\u001b[0m\u001b[0mop\u001b[0m\u001b[1;33m)\u001b[0m\u001b[1;33m:\u001b[0m\u001b[1;33m\u001b[0m\u001b[0m\n\u001b[1;32m-> 1669\u001b[1;33m     \u001b[1;32mreturn\u001b[0m \u001b[0mcall_cpp_shape_fn\u001b[0m\u001b[1;33m(\u001b[0m\u001b[0mop\u001b[0m\u001b[1;33m,\u001b[0m \u001b[0mrequire_shape_fn\u001b[0m\u001b[1;33m=\u001b[0m\u001b[1;32mTrue\u001b[0m\u001b[1;33m)\u001b[0m\u001b[1;33m\u001b[0m\u001b[0m\n\u001b[0m\u001b[0;32m   1670\u001b[0m \u001b[1;33m\u001b[0m\u001b[0m\n\u001b[0;32m   1671\u001b[0m   \u001b[0m_call_cpp_shape_fn_and_require_op\u001b[0m \u001b[1;33m=\u001b[0m \u001b[0mcall_with_requiring\u001b[0m\u001b[1;33m\u001b[0m\u001b[0m\n",
      "\u001b[1;32mD:\\Anaconda3\\lib\\site-packages\\tensorflow\\python\\framework\\common_shapes.py\u001b[0m in \u001b[0;36mcall_cpp_shape_fn\u001b[1;34m(op, input_tensors_needed, input_tensors_as_shapes_needed, debug_python_shape_fn, require_shape_fn)\u001b[0m\n\u001b[0;32m    608\u001b[0m     res = _call_cpp_shape_fn_impl(op, input_tensors_needed,\n\u001b[0;32m    609\u001b[0m                                   \u001b[0minput_tensors_as_shapes_needed\u001b[0m\u001b[1;33m,\u001b[0m\u001b[1;33m\u001b[0m\u001b[0m\n\u001b[1;32m--> 610\u001b[1;33m                                   debug_python_shape_fn, require_shape_fn)\n\u001b[0m\u001b[0;32m    611\u001b[0m     \u001b[1;32mif\u001b[0m \u001b[1;32mnot\u001b[0m \u001b[0misinstance\u001b[0m\u001b[1;33m(\u001b[0m\u001b[0mres\u001b[0m\u001b[1;33m,\u001b[0m \u001b[0mdict\u001b[0m\u001b[1;33m)\u001b[0m\u001b[1;33m:\u001b[0m\u001b[1;33m\u001b[0m\u001b[0m\n\u001b[0;32m    612\u001b[0m       \u001b[1;31m# Handles the case where _call_cpp_shape_fn_impl calls unknown_shape(op).\u001b[0m\u001b[1;33m\u001b[0m\u001b[1;33m\u001b[0m\u001b[0m\n",
      "\u001b[1;32mD:\\Anaconda3\\lib\\site-packages\\tensorflow\\python\\framework\\common_shapes.py\u001b[0m in \u001b[0;36m_call_cpp_shape_fn_impl\u001b[1;34m(op, input_tensors_needed, input_tensors_as_shapes_needed, debug_python_shape_fn, require_shape_fn)\u001b[0m\n\u001b[0;32m    674\u001b[0m       \u001b[0mmissing_shape_fn\u001b[0m \u001b[1;33m=\u001b[0m \u001b[1;32mTrue\u001b[0m\u001b[1;33m\u001b[0m\u001b[0m\n\u001b[0;32m    675\u001b[0m     \u001b[1;32melse\u001b[0m\u001b[1;33m:\u001b[0m\u001b[1;33m\u001b[0m\u001b[0m\n\u001b[1;32m--> 676\u001b[1;33m       \u001b[1;32mraise\u001b[0m \u001b[0mValueError\u001b[0m\u001b[1;33m(\u001b[0m\u001b[0merr\u001b[0m\u001b[1;33m.\u001b[0m\u001b[0mmessage\u001b[0m\u001b[1;33m)\u001b[0m\u001b[1;33m\u001b[0m\u001b[0m\n\u001b[0m\u001b[0;32m    677\u001b[0m \u001b[1;33m\u001b[0m\u001b[0m\n\u001b[0;32m    678\u001b[0m   \u001b[1;32mif\u001b[0m \u001b[0mmissing_shape_fn\u001b[0m\u001b[1;33m:\u001b[0m\u001b[1;33m\u001b[0m\u001b[0m\n",
      "\u001b[1;31mValueError\u001b[0m: Negative dimension size caused by subtracting 3 from 2 for 'conv2d_41/convolution' (op: 'Conv2D') with input shapes: [?,2,2,128], [3,3,128,256]."
     ]
    }
   ],
   "source": [
    "modelK = Sequential()\n",
    "modelK.add(Conv2D(32, (3, 3), input_shape=(32, 32,3)))\n",
    "modelK.add(MaxPooling2D(pool_size=(2, 2))) #Comprimir la info y hacer que sea menos propensa a errores de traslaciones\n",
    "modelK.add(Activation('relu'))\n",
    "\n",
    "modelK.add(Conv2D(64, (3, 3)))\n",
    "modelK.add(MaxPooling2D(pool_size=(2, 2))) #Comprimir la info y hacer que sea menos propensa a errores de traslaciones\n",
    "modelK.add(Activation('relu'))\n",
    "\n",
    "modelK.add(Conv2D(128, (3, 3)))\n",
    "modelK.add(MaxPooling2D(pool_size=(2, 2))) #Comprimir la info y hacer que sea menos propensa a errores de traslaciones\n",
    "modelK.add(Activation('relu'))\n",
    "\n",
    "modelK.add(Conv2D(256, (3, 3)))\n",
    "modelK.add(MaxPooling2D(pool_size=(2, 2))) #Comprimir la info y hacer que sea menos propensa a errores de traslaciones\n",
    "modelK.add(Activation('relu'))\n",
    "\n",
    "modelK.add(Conv2D(512, (3, 3)))\n",
    "modelK.add(MaxPooling2D(pool_size=(2, 2))) #Comprimir la info y hacer que sea menos propensa a errores de traslaciones\n",
    "modelK.add(Activation('relu'))\n",
    "\n",
    "modelK.add(Flatten())  \n",
    "modelK.add(Dense(512, activation='relu'))\n",
    "modelK.add(Dropout(0.3))\n",
    "modelK.add(Dense(128, activation='relu'))\n",
    "modelK.add(Dropout(0.3))\n",
    "modelK.add(Dense(32, activation='relu'))\n",
    "modelK.add(Dropout(0.3))\n",
    "modelK.add(Dense(1, activation='sigmoid'))\n",
    "modelK.compile(loss='binary_crossentropy', optimizer='adam', metrics=['accuracy']) \n",
    "\n",
    "plot_model(modelK, to_file='model_K.png', show_shapes=True, show_layer_names=True)\n",
    "modelH_checkpoint = ModelCheckpoint('Pesos-ModelK.hdf5', monitor='val_loss',verbose=1, save_best_only=True)"
   ]
  },
  {
   "cell_type": "code",
   "execution_count": null,
   "metadata": {},
   "outputs": [],
   "source": [
    "historyK = modelK.fit(X_train, Y_train,  batch_size=32, validation_data=[X_test, Y_test], epochs=10, callbacks=[modelK_checkpoint])"
   ]
  },
  {
   "cell_type": "code",
   "execution_count": null,
   "metadata": {},
   "outputs": [],
   "source": [
    "pv =  np.ravel(modelK.predict(X_test))\n",
    "pv_round = np.asarray([int(round(i)) for i in pv])\n",
    "conf_mat = confusion_matrix(Y_test, pv_round)\n",
    "matrixConfusion(conf_mat,'Greys',\"MatrizConfusion-ModelK.jpg\")"
   ]
  }
 ],
 "metadata": {
  "kernelspec": {
   "display_name": "Python 3",
   "language": "python",
   "name": "python3"
  },
  "language_info": {
   "codemirror_mode": {
    "name": "ipython",
    "version": 3
   },
   "file_extension": ".py",
   "mimetype": "text/x-python",
   "name": "python",
   "nbconvert_exporter": "python",
   "pygments_lexer": "ipython3",
   "version": "3.6.4"
  }
 },
 "nbformat": 4,
 "nbformat_minor": 2
}
