{
 "cells": [
  {
   "cell_type": "markdown",
   "metadata": {},
   "source": [
    "## Preparación de las imágenes para U-Net"
   ]
  },
  {
   "cell_type": "markdown",
   "metadata": {},
   "source": [
    "### Redimensionamos las imágenes a 2048 (potencia de 2)\n"
   ]
  },
  {
   "cell_type": "code",
   "execution_count": 1,
   "metadata": {},
   "outputs": [],
   "source": [
    "import matplotlib.pyplot as plt\n",
    "import numpy as np\n",
    "from PIL import Image"
   ]
  },
  {
   "cell_type": "code",
   "execution_count": 11,
   "metadata": {},
   "outputs": [
    {
     "name": "stdout",
     "output_type": "stream",
     "text": [
      "46\n",
      "16\n"
     ]
    }
   ],
   "source": [
    "from os import scandir, getcwd\n",
    "\n",
    "#Obtenemos la lista de las imágenes a redimensionar\n",
    "def lsJPG(ruta = getcwd()):\n",
    "    return [arch.name for arch in scandir(ruta) if (arch.is_file() and arch.name.endswith('.jpg'))]\n",
    "\n",
    "listImgTrain = lsJPG(\"F:\\Microplasticos\\Dataset\\Train\")\n",
    "print(len(listImgTrain))\n",
    "\n",
    "listImgVal = lsJPG(\"F:\\Microplasticos\\Dataset\\Validation\")\n",
    "print(len(listImgVal))"
   ]
  },
  {
   "cell_type": "code",
   "execution_count": 13,
   "metadata": {},
   "outputs": [],
   "source": [
    "#Redimensionamos todas las imagenes a 2048\n",
    "for img in listImgVal:\n",
    "    redim = Image.open(\"Dataset/Validation/\"+img)\n",
    "    nuevo = redim.resize((2048, 2048), Image.ANTIALIAS)\n",
    "    nuevo.save(\"Dataset/Validation/\"+img)"
   ]
  },
  {
   "cell_type": "code",
   "execution_count": 14,
   "metadata": {},
   "outputs": [],
   "source": [
    "for img in listImgTrain:\n",
    "    redim = Image.open(\"Dataset/Train/\"+img)\n",
    "    nuevo = redim.resize((2048, 2048), Image.ANTIALIAS)\n",
    "    nuevo.save(\"Dataset/Train/\"+img)"
   ]
  },
  {
   "cell_type": "markdown",
   "metadata": {},
   "source": [
    "### Recortamos las imagenes para que tengan un tamaño de 512"
   ]
  },
  {
   "cell_type": "code",
   "execution_count": 16,
   "metadata": {},
   "outputs": [
    {
     "data": {
      "text/plain": [
       "736"
      ]
     },
     "execution_count": 16,
     "metadata": {},
     "output_type": "execute_result"
    }
   ],
   "source": [
    "n = int(2048/512) \n",
    "listaRegionesTrain = []\n",
    "for img in listImgTrain:\n",
    "    recort = Image.open(\"Dataset/Train/\"+img)\n",
    "    for i in range(0,n):\n",
    "        for j in range(0,n):\n",
    "            region = recort.crop((i*512,j*512,i*512+512,j*512+512))\n",
    "            subtring = img[0:-4]\n",
    "            region.save(\"Dataset 512/Train/\"+\n",
    "                        \"imgID-\"+subtring+\"-R\"+\"{0:0=2d}\".format(i)+\"C\"+\"{0:0=2d}\".format(j)+\".jpg\")\n",
    "            listaRegionesTrain.append(\"imgID-\"+subtring+\"-R\"+\"{0:0=2d}\".format(i)+\"C\"+\"{0:0=2d}\".format(j))\n",
    "\n",
    "len(listaRegionesTrain)"
   ]
  },
  {
   "cell_type": "code",
   "execution_count": 17,
   "metadata": {},
   "outputs": [
    {
     "data": {
      "text/plain": [
       "256"
      ]
     },
     "execution_count": 17,
     "metadata": {},
     "output_type": "execute_result"
    }
   ],
   "source": [
    "listaRegionesVal = []\n",
    "for img in listImgVal:\n",
    "    recort = Image.open(\"Dataset/Validation/\"+img)\n",
    "    for i in range(0,n):\n",
    "        for j in range(0,n):\n",
    "            region = recort.crop((i*512,j*512,i*512+512,j*512+512))\n",
    "            subtring = img[0:-4]\n",
    "            region.save(\"Dataset 512/Validation/\"+\n",
    "                        \"imgID-\"+subtring+\"-R\"+\"{0:0=2d}\".format(i)+\"C\"+\"{0:0=2d}\".format(j)+\".jpg\")\n",
    "            listaRegionesVal.append(\"imgID-\"+subtring+\"-R\"+\"{0:0=2d}\".format(i)+\"C\"+\"{0:0=2d}\".format(j))\n",
    "\n",
    "len(listaRegionesVal)"
   ]
  },
  {
   "cell_type": "markdown",
   "metadata": {},
   "source": [
    "## Preparación de los datos para tamaño de 1024"
   ]
  },
  {
   "cell_type": "markdown",
   "metadata": {},
   "source": [
    "### Obtenemos una lista con las imágenes a redimensionar"
   ]
  },
  {
   "cell_type": "code",
   "execution_count": 2,
   "metadata": {},
   "outputs": [
    {
     "name": "stdout",
     "output_type": "stream",
     "text": [
      "45\n",
      "17\n"
     ]
    }
   ],
   "source": [
    "from os import scandir, getcwd\n",
    "\n",
    "#Obtenemos la lista de las imágenes\n",
    "def lsJPG(ruta = getcwd()):\n",
    "    return [arch.name for arch in scandir(ruta) if (arch.is_file() and arch.name.endswith('.jpg'))]\n",
    "\n",
    "listImgTrain = lsJPG(\"F:\\Microplasticos\\Dataset\\img 2048\\Train\")\n",
    "print(len(listImgTrain))\n",
    "\n",
    "listImgVal = lsJPG(\"F:\\Microplasticos\\Dataset\\img 2048\\Validation\")\n",
    "print(len(listImgVal))"
   ]
  },
  {
   "cell_type": "markdown",
   "metadata": {},
   "source": [
    "Guardamos las listas con los datos en test y val"
   ]
  },
  {
   "cell_type": "code",
   "execution_count": 5,
   "metadata": {},
   "outputs": [],
   "source": [
    "import pickle\n",
    "\n",
    "with open(\"listImgTrain.pickle\", \"wb\") as f:\n",
    "    pickle.dump(listImgTrain, f)\n",
    "    \n",
    "with open(\"listImgVal.pickle\", \"wb\") as f:\n",
    "    pickle.dump(listImgVal, f)\n",
    "    \n",
    "#Para leer el archivo pickle:\n",
    "#with open(\"obj.pickle\", \"rb\") as f:\n",
    "#    obj = pickle.load(f)"
   ]
  }
 ],
 "metadata": {
  "kernelspec": {
   "display_name": "Python 3",
   "language": "python",
   "name": "python3"
  },
  "language_info": {
   "codemirror_mode": {
    "name": "ipython",
    "version": 3
   },
   "file_extension": ".py",
   "mimetype": "text/x-python",
   "name": "python",
   "nbconvert_exporter": "python",
   "pygments_lexer": "ipython3",
   "version": "3.6.4"
  }
 },
 "nbformat": 4,
 "nbformat_minor": 2
}
